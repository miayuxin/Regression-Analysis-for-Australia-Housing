{
  "cells": [
    {
      "cell_type": "markdown",
      "metadata": {
        "id": "mi3vrhmjqwj-",
        "colab_type": "text"
      },
      "source": [
        "# **Use logistic regression to predict when employees are going to leave a company**\n",
        "\n",
        "## 1. Data preprocessing (understanding of my data)\n",
        "\n",
        "## 2. Data visualization (analyzing relationships between key variables)\n",
        "\n",
        "## 3. Determine the causes for attrition by logistic regression\n",
        "\n",
        "## 4. Assess the performance of my model\n",
        "\n",
        "## 5. Generate 5 sample predictions for input values of my choosing\n",
        "\n",
        "\n",
        "Author: Mia (Yuhsin Hou)"
      ]
    },
    {
      "cell_type": "markdown",
      "metadata": {
        "id": "MGH3_EWnsi4O",
        "colab_type": "text"
      },
      "source": [
        "# Import necessary packages"
      ]
    },
    {
      "cell_type": "code",
      "metadata": {
        "id": "TwDDQpSzrpxG",
        "colab_type": "code",
        "colab": {}
      },
      "source": [
        "import numpy as np\n",
        "import pandas as pd\n",
        "import os\n",
        "import seaborn as sns\n",
        "import statsmodels.api as sm\n",
        "from matplotlib import pyplot as plt\n",
        "from matplotlib.ticker import PercentFormatter\n",
        "import matplotlib.ticker as ticker\n",
        "from scipy import stats\n",
        "from pylab import rcParams\n",
        "from matplotlib.pyplot import MultipleLocator\n",
        "\n",
        "rcParams['figure.figsize'] = (20, 8)\n",
        "sns.set_style('darkgrid')\n",
        "plt.style.use('seaborn-darkgrid')\n",
        "\n",
        "from sklearn import datasets\n",
        "from sklearn.feature_selection import RFE\n",
        "from sklearn.linear_model import LogisticRegression\n",
        "from sklearn.model_selection import train_test_split\n",
        "from  sklearn.ensemble import RandomForestClassifier\n",
        "from sklearn.model_selection import GridSearchCV\n",
        "from sklearn.model_selection import ShuffleSplit\n",
        "from sklearn.metrics import accuracy_score\n",
        "from sklearn.metrics import roc_auc_score\n",
        "from sklearn.metrics import roc_curve\n",
        "from sklearn.utils import resample\n",
        "\n",
        "from sklearn.naive_bayes import GaussianNB\n",
        "from sklearn.preprocessing import StandardScaler\n",
        "from sklearn.pipeline import make_pipeline\n",
        "from patsy import dmatrices\n",
        "from sklearn import metrics\n",
        "from sklearn.metrics import classification_report\n",
        "from sklearn.metrics import confusion_matrix\n",
        "from sklearn.metrics import roc_auc_score\n",
        "from sklearn.metrics import roc_curve"
      ],
      "execution_count": 0,
      "outputs": []
    },
    {
      "cell_type": "markdown",
      "metadata": {
        "id": "sdS07lHmstYR",
        "colab_type": "text"
      },
      "source": [
        "# **Part 1 - Data preprocessing (understanding of my data)**"
      ]
    },
    {
      "cell_type": "markdown",
      "metadata": {
        "id": "tbSObtvH1NJg",
        "colab_type": "text"
      },
      "source": [
        "## Load data"
      ]
    },
    {
      "cell_type": "code",
      "metadata": {
        "id": "qZ6dDY1GsliE",
        "colab_type": "code",
        "outputId": "00575d87-4fcf-4997-e7db-43bb08b973ef",
        "colab": {
          "base_uri": "https://localhost:8080/",
          "height": 142
        }
      },
      "source": [
        "# Read data from Google Sheet\n",
        "data_path = \"https://docs.google.com/spreadsheets/d/e/2PACX-1vSed6JPpoDlhZjvLqwi_GH6zvhWrpcDi2YeHaXk7sNUjEEGfTNvslz7FhBSlfhvG5yQ-jpXLZoNoFmU/pub?gid=785624697&single=true&output=csv\"\n",
        "attrition_df = pd.read_csv(data_path)\n",
        "attrition_df.head(3)"
      ],
      "execution_count": 77,
      "outputs": [
        {
          "output_type": "execute_result",
          "data": {
            "text/html": [
              "<div>\n",
              "<style scoped>\n",
              "    .dataframe tbody tr th:only-of-type {\n",
              "        vertical-align: middle;\n",
              "    }\n",
              "\n",
              "    .dataframe tbody tr th {\n",
              "        vertical-align: top;\n",
              "    }\n",
              "\n",
              "    .dataframe thead th {\n",
              "        text-align: right;\n",
              "    }\n",
              "</style>\n",
              "<table border=\"1\" class=\"dataframe\">\n",
              "  <thead>\n",
              "    <tr style=\"text-align: right;\">\n",
              "      <th></th>\n",
              "      <th>employee_satisfaction</th>\n",
              "      <th>last_performance_rating</th>\n",
              "      <th>workload</th>\n",
              "      <th>avg_montly_hours</th>\n",
              "      <th>tenure_years</th>\n",
              "      <th>ergo_issues</th>\n",
              "      <th>attrit</th>\n",
              "      <th>promo_in_last_5_years</th>\n",
              "      <th>dept</th>\n",
              "      <th>salary</th>\n",
              "    </tr>\n",
              "  </thead>\n",
              "  <tbody>\n",
              "    <tr>\n",
              "      <th>0</th>\n",
              "      <td>0.82</td>\n",
              "      <td>0.97</td>\n",
              "      <td>3</td>\n",
              "      <td>244</td>\n",
              "      <td>5</td>\n",
              "      <td>0</td>\n",
              "      <td>0</td>\n",
              "      <td>0</td>\n",
              "      <td>SALES</td>\n",
              "      <td>MEDIUM</td>\n",
              "    </tr>\n",
              "    <tr>\n",
              "      <th>1</th>\n",
              "      <td>0.75</td>\n",
              "      <td>0.81</td>\n",
              "      <td>2</td>\n",
              "      <td>247</td>\n",
              "      <td>4</td>\n",
              "      <td>0</td>\n",
              "      <td>0</td>\n",
              "      <td>0</td>\n",
              "      <td>HR</td>\n",
              "      <td>SMALL</td>\n",
              "    </tr>\n",
              "    <tr>\n",
              "      <th>2</th>\n",
              "      <td>0.54</td>\n",
              "      <td>0.81</td>\n",
              "      <td>4</td>\n",
              "      <td>257</td>\n",
              "      <td>2</td>\n",
              "      <td>0</td>\n",
              "      <td>0</td>\n",
              "      <td>0</td>\n",
              "      <td>ADMIN</td>\n",
              "      <td>SMALL</td>\n",
              "    </tr>\n",
              "  </tbody>\n",
              "</table>\n",
              "</div>"
            ],
            "text/plain": [
              "   employee_satisfaction  last_performance_rating  ...   dept  salary\n",
              "0                   0.82                     0.97  ...  SALES  MEDIUM\n",
              "1                   0.75                     0.81  ...     HR   SMALL\n",
              "2                   0.54                     0.81  ...  ADMIN   SMALL\n",
              "\n",
              "[3 rows x 10 columns]"
            ]
          },
          "metadata": {
            "tags": []
          },
          "execution_count": 77
        }
      ]
    },
    {
      "cell_type": "markdown",
      "metadata": {
        "id": "e7zKL3E0xFtv",
        "colab_type": "text"
      },
      "source": [
        "## Interpret data"
      ]
    },
    {
      "cell_type": "code",
      "metadata": {
        "id": "XYvC4UmHwhbZ",
        "colab_type": "code",
        "outputId": "a399feb3-c6db-48a7-9ae3-c2f91deb8af3",
        "colab": {
          "base_uri": "https://localhost:8080/",
          "height": 187
        }
      },
      "source": [
        "list(attrition_df)"
      ],
      "execution_count": 78,
      "outputs": [
        {
          "output_type": "execute_result",
          "data": {
            "text/plain": [
              "['employee_satisfaction',\n",
              " 'last_performance_rating',\n",
              " 'workload',\n",
              " 'avg_montly_hours',\n",
              " 'tenure_years',\n",
              " 'ergo_issues',\n",
              " 'attrit',\n",
              " 'promo_in_last_5_years',\n",
              " 'dept',\n",
              " 'salary']"
            ]
          },
          "metadata": {
            "tags": []
          },
          "execution_count": 78
        }
      ]
    },
    {
      "cell_type": "code",
      "metadata": {
        "id": "DiqKn2RP3Kep",
        "colab_type": "code",
        "outputId": "22db3776-97ca-4cd6-c93e-4f21a891506b",
        "colab": {
          "base_uri": "https://localhost:8080/",
          "height": 34
        }
      },
      "source": [
        "attrition_df.shape"
      ],
      "execution_count": 79,
      "outputs": [
        {
          "output_type": "execute_result",
          "data": {
            "text/plain": [
              "(11249, 10)"
            ]
          },
          "metadata": {
            "tags": []
          },
          "execution_count": 79
        }
      ]
    },
    {
      "cell_type": "markdown",
      "metadata": {
        "id": "1s--lUwl2-KR",
        "colab_type": "text"
      },
      "source": [
        "The data contains 11,249 employees and 10 features."
      ]
    },
    {
      "cell_type": "markdown",
      "metadata": {
        "id": "Y_oE_YMBx20V",
        "colab_type": "text"
      },
      "source": [
        "## Feature difinition\n",
        "\n",
        "It is pretty straightforward. \n",
        "\n",
        "Each row represents an employee, each column contains employee attributes.\n",
        "\n",
        "Here's my interpretation:\n",
        "\n",
        "- employee_satisfaction: the results vary from 0 to 1 where a higher score indicates a more satisfied employee. \n",
        "- last_performance_rating: last evaluation of the employee's performance, rating from 0 to 1. \n",
        "- workload: the amount of work ranging from 0 to 10. \n",
        "- avg_montly_hours: average monthly hours at workplace\n",
        "- tenure_years: time spent at the company in years.\n",
        "- ergo_issues: whether the employee had a workplace ergo issue. 1 means yes, 0 means no.\n",
        "- attrit: whether the employee left the company or not. 1 means yes, 0 means no.\n",
        "- promo_in_last_5_years: whether the employee was promoted in the last five years. 1 means yes, 0 means no.\n",
        "- dept: department in which they work for. \n",
        "- salary: relative level of salary.\n"
      ]
    },
    {
      "cell_type": "markdown",
      "metadata": {
        "id": "Fh5QnbPb2FfI",
        "colab_type": "text"
      },
      "source": [
        "## The type of the columns can be found out as follows:"
      ]
    },
    {
      "cell_type": "code",
      "metadata": {
        "id": "0CBKnhSOxt4L",
        "colab_type": "code",
        "outputId": "df7f70bc-e4be-47e5-c0ca-67060b90fd50",
        "colab": {
          "base_uri": "https://localhost:8080/",
          "height": 204
        }
      },
      "source": [
        "attrition_df.dtypes"
      ],
      "execution_count": 80,
      "outputs": [
        {
          "output_type": "execute_result",
          "data": {
            "text/plain": [
              "employee_satisfaction      float64\n",
              "last_performance_rating    float64\n",
              "workload                     int64\n",
              "avg_montly_hours             int64\n",
              "tenure_years                 int64\n",
              "ergo_issues                  int64\n",
              "attrit                       int64\n",
              "promo_in_last_5_years        int64\n",
              "dept                        object\n",
              "salary                      object\n",
              "dtype: object"
            ]
          },
          "metadata": {
            "tags": []
          },
          "execution_count": 80
        }
      ]
    },
    {
      "cell_type": "markdown",
      "metadata": {
        "id": "5zhS5AOp3-gH",
        "colab_type": "text"
      },
      "source": [
        "We can see we have 2 categorical variables: dept and salary. "
      ]
    },
    {
      "cell_type": "markdown",
      "metadata": {
        "id": "EBW7cVeh8YNC",
        "colab_type": "text"
      },
      "source": [
        "## Summary of descriptive statistics"
      ]
    },
    {
      "cell_type": "code",
      "metadata": {
        "id": "44_Tiq7j8iVf",
        "colab_type": "code",
        "outputId": "cc0bbc29-348b-4bc5-cfd9-4e800c2d2cb7",
        "colab": {
          "base_uri": "https://localhost:8080/",
          "height": 297
        }
      },
      "source": [
        "attrition_df.describe().round(3)"
      ],
      "execution_count": 81,
      "outputs": [
        {
          "output_type": "execute_result",
          "data": {
            "text/html": [
              "<div>\n",
              "<style scoped>\n",
              "    .dataframe tbody tr th:only-of-type {\n",
              "        vertical-align: middle;\n",
              "    }\n",
              "\n",
              "    .dataframe tbody tr th {\n",
              "        vertical-align: top;\n",
              "    }\n",
              "\n",
              "    .dataframe thead th {\n",
              "        text-align: right;\n",
              "    }\n",
              "</style>\n",
              "<table border=\"1\" class=\"dataframe\">\n",
              "  <thead>\n",
              "    <tr style=\"text-align: right;\">\n",
              "      <th></th>\n",
              "      <th>employee_satisfaction</th>\n",
              "      <th>last_performance_rating</th>\n",
              "      <th>workload</th>\n",
              "      <th>avg_montly_hours</th>\n",
              "      <th>tenure_years</th>\n",
              "      <th>ergo_issues</th>\n",
              "      <th>attrit</th>\n",
              "      <th>promo_in_last_5_years</th>\n",
              "    </tr>\n",
              "  </thead>\n",
              "  <tbody>\n",
              "    <tr>\n",
              "      <th>count</th>\n",
              "      <td>11249.000</td>\n",
              "      <td>11249.000</td>\n",
              "      <td>11249.000</td>\n",
              "      <td>11249.000</td>\n",
              "      <td>11249.00</td>\n",
              "      <td>11249.000</td>\n",
              "      <td>11249.000</td>\n",
              "      <td>11249.000</td>\n",
              "    </tr>\n",
              "    <tr>\n",
              "      <th>mean</th>\n",
              "      <td>0.613</td>\n",
              "      <td>0.716</td>\n",
              "      <td>3.800</td>\n",
              "      <td>201.177</td>\n",
              "      <td>3.50</td>\n",
              "      <td>0.145</td>\n",
              "      <td>0.240</td>\n",
              "      <td>0.022</td>\n",
              "    </tr>\n",
              "    <tr>\n",
              "      <th>std</th>\n",
              "      <td>0.248</td>\n",
              "      <td>0.171</td>\n",
              "      <td>1.232</td>\n",
              "      <td>50.058</td>\n",
              "      <td>1.47</td>\n",
              "      <td>0.352</td>\n",
              "      <td>0.427</td>\n",
              "      <td>0.146</td>\n",
              "    </tr>\n",
              "    <tr>\n",
              "      <th>min</th>\n",
              "      <td>0.090</td>\n",
              "      <td>0.360</td>\n",
              "      <td>2.000</td>\n",
              "      <td>96.000</td>\n",
              "      <td>2.00</td>\n",
              "      <td>0.000</td>\n",
              "      <td>0.000</td>\n",
              "      <td>0.000</td>\n",
              "    </tr>\n",
              "    <tr>\n",
              "      <th>25%</th>\n",
              "      <td>0.440</td>\n",
              "      <td>0.560</td>\n",
              "      <td>3.000</td>\n",
              "      <td>156.000</td>\n",
              "      <td>3.00</td>\n",
              "      <td>0.000</td>\n",
              "      <td>0.000</td>\n",
              "      <td>0.000</td>\n",
              "    </tr>\n",
              "    <tr>\n",
              "      <th>50%</th>\n",
              "      <td>0.640</td>\n",
              "      <td>0.720</td>\n",
              "      <td>4.000</td>\n",
              "      <td>201.000</td>\n",
              "      <td>3.00</td>\n",
              "      <td>0.000</td>\n",
              "      <td>0.000</td>\n",
              "      <td>0.000</td>\n",
              "    </tr>\n",
              "    <tr>\n",
              "      <th>75%</th>\n",
              "      <td>0.820</td>\n",
              "      <td>0.870</td>\n",
              "      <td>5.000</td>\n",
              "      <td>245.000</td>\n",
              "      <td>4.00</td>\n",
              "      <td>0.000</td>\n",
              "      <td>0.000</td>\n",
              "      <td>0.000</td>\n",
              "    </tr>\n",
              "    <tr>\n",
              "      <th>max</th>\n",
              "      <td>1.000</td>\n",
              "      <td>1.000</td>\n",
              "      <td>7.000</td>\n",
              "      <td>310.000</td>\n",
              "      <td>10.00</td>\n",
              "      <td>1.000</td>\n",
              "      <td>1.000</td>\n",
              "      <td>1.000</td>\n",
              "    </tr>\n",
              "  </tbody>\n",
              "</table>\n",
              "</div>"
            ],
            "text/plain": [
              "       employee_satisfaction  ...  promo_in_last_5_years\n",
              "count              11249.000  ...              11249.000\n",
              "mean                   0.613  ...                  0.022\n",
              "std                    0.248  ...                  0.146\n",
              "min                    0.090  ...                  0.000\n",
              "25%                    0.440  ...                  0.000\n",
              "50%                    0.640  ...                  0.000\n",
              "75%                    0.820  ...                  0.000\n",
              "max                    1.000  ...                  1.000\n",
              "\n",
              "[8 rows x 8 columns]"
            ]
          },
          "metadata": {
            "tags": []
          },
          "execution_count": 81
        }
      ]
    },
    {
      "cell_type": "markdown",
      "metadata": {
        "id": "8cpEiZK88ooO",
        "colab_type": "text"
      },
      "source": [
        "The descriptive statistics of each feature are shown in above table. \n",
        "\n",
        "The range of each variable is reasonable, which is consistent with the actual environment in real world. \n",
        "\n",
        "Since the data quality is very high, we do not need data cleanning. "
      ]
    },
    {
      "cell_type": "markdown",
      "metadata": {
        "id": "Kmew98QK2eGf",
        "colab_type": "text"
      },
      "source": [
        "## Identify missing value"
      ]
    },
    {
      "cell_type": "code",
      "metadata": {
        "id": "E6dCD43y2msW",
        "colab_type": "code",
        "outputId": "2931027c-90b2-48f0-f3ab-ce9297b4b83c",
        "colab": {
          "base_uri": "https://localhost:8080/",
          "height": 359
        }
      },
      "source": [
        "# Check if there are missing values and the data type of each features.\n",
        "total = attrition_df.isnull().sum().sort_values(ascending = False)\n",
        "frame = [total]\n",
        "missing_df = pd.concat(frame, axis=1, keys = ['Total'])\n",
        "missing_df"
      ],
      "execution_count": 82,
      "outputs": [
        {
          "output_type": "execute_result",
          "data": {
            "text/html": [
              "<div>\n",
              "<style scoped>\n",
              "    .dataframe tbody tr th:only-of-type {\n",
              "        vertical-align: middle;\n",
              "    }\n",
              "\n",
              "    .dataframe tbody tr th {\n",
              "        vertical-align: top;\n",
              "    }\n",
              "\n",
              "    .dataframe thead th {\n",
              "        text-align: right;\n",
              "    }\n",
              "</style>\n",
              "<table border=\"1\" class=\"dataframe\">\n",
              "  <thead>\n",
              "    <tr style=\"text-align: right;\">\n",
              "      <th></th>\n",
              "      <th>Total</th>\n",
              "    </tr>\n",
              "  </thead>\n",
              "  <tbody>\n",
              "    <tr>\n",
              "      <th>salary</th>\n",
              "      <td>0</td>\n",
              "    </tr>\n",
              "    <tr>\n",
              "      <th>dept</th>\n",
              "      <td>0</td>\n",
              "    </tr>\n",
              "    <tr>\n",
              "      <th>promo_in_last_5_years</th>\n",
              "      <td>0</td>\n",
              "    </tr>\n",
              "    <tr>\n",
              "      <th>attrit</th>\n",
              "      <td>0</td>\n",
              "    </tr>\n",
              "    <tr>\n",
              "      <th>ergo_issues</th>\n",
              "      <td>0</td>\n",
              "    </tr>\n",
              "    <tr>\n",
              "      <th>tenure_years</th>\n",
              "      <td>0</td>\n",
              "    </tr>\n",
              "    <tr>\n",
              "      <th>avg_montly_hours</th>\n",
              "      <td>0</td>\n",
              "    </tr>\n",
              "    <tr>\n",
              "      <th>workload</th>\n",
              "      <td>0</td>\n",
              "    </tr>\n",
              "    <tr>\n",
              "      <th>last_performance_rating</th>\n",
              "      <td>0</td>\n",
              "    </tr>\n",
              "    <tr>\n",
              "      <th>employee_satisfaction</th>\n",
              "      <td>0</td>\n",
              "    </tr>\n",
              "  </tbody>\n",
              "</table>\n",
              "</div>"
            ],
            "text/plain": [
              "                         Total\n",
              "salary                       0\n",
              "dept                         0\n",
              "promo_in_last_5_years        0\n",
              "attrit                       0\n",
              "ergo_issues                  0\n",
              "tenure_years                 0\n",
              "avg_montly_hours             0\n",
              "workload                     0\n",
              "last_performance_rating      0\n",
              "employee_satisfaction        0"
            ]
          },
          "metadata": {
            "tags": []
          },
          "execution_count": 82
        }
      ]
    },
    {
      "cell_type": "markdown",
      "metadata": {
        "id": "viXHcYHS2DDO",
        "colab_type": "text"
      },
      "source": [
        "Our data is pretty clean, no missing values!"
      ]
    },
    {
      "cell_type": "markdown",
      "metadata": {
        "id": "tZ8vtBXc5hao",
        "colab_type": "text"
      },
      "source": [
        "# **Part 2 - Data visualization (analyzing relationships between key variables)**"
      ]
    },
    {
      "cell_type": "markdown",
      "metadata": {
        "id": "bOqbwdDb6TAH",
        "colab_type": "text"
      },
      "source": [
        "## First of all, I want to find out the number of employees who left the company and those who didn't. So review the attrit variable:   "
      ]
    },
    {
      "cell_type": "code",
      "metadata": {
        "id": "_cCcFRwx1-JS",
        "colab_type": "code",
        "outputId": "53d7069f-0b76-4a58-8f98-cef88b489347",
        "colab": {
          "base_uri": "https://localhost:8080/",
          "height": 111
        }
      },
      "source": [
        "# Count unique values in 'attrit'.\n",
        "count = attrition_df['attrit'].value_counts()\n",
        "\n",
        "# Compute the percentage of unique values in 'attrit'.\n",
        "percent = (attrition_df['attrit'].value_counts() / attrition_df['attrit'].count() *100).round(2)\n",
        "\n",
        "# Create a summary dataframe\n",
        "frames = [count, percent]\n",
        "attrit_agg = pd.concat(frames, axis=1, keys = ['Count', 'Percent'])\n",
        "attrit_agg"
      ],
      "execution_count": 83,
      "outputs": [
        {
          "output_type": "execute_result",
          "data": {
            "text/html": [
              "<div>\n",
              "<style scoped>\n",
              "    .dataframe tbody tr th:only-of-type {\n",
              "        vertical-align: middle;\n",
              "    }\n",
              "\n",
              "    .dataframe tbody tr th {\n",
              "        vertical-align: top;\n",
              "    }\n",
              "\n",
              "    .dataframe thead th {\n",
              "        text-align: right;\n",
              "    }\n",
              "</style>\n",
              "<table border=\"1\" class=\"dataframe\">\n",
              "  <thead>\n",
              "    <tr style=\"text-align: right;\">\n",
              "      <th></th>\n",
              "      <th>Count</th>\n",
              "      <th>Percent</th>\n",
              "    </tr>\n",
              "  </thead>\n",
              "  <tbody>\n",
              "    <tr>\n",
              "      <th>0</th>\n",
              "      <td>8554</td>\n",
              "      <td>76.04</td>\n",
              "    </tr>\n",
              "    <tr>\n",
              "      <th>1</th>\n",
              "      <td>2695</td>\n",
              "      <td>23.96</td>\n",
              "    </tr>\n",
              "  </tbody>\n",
              "</table>\n",
              "</div>"
            ],
            "text/plain": [
              "   Count  Percent\n",
              "0   8554    76.04\n",
              "1   2695    23.96"
            ]
          },
          "metadata": {
            "tags": []
          },
          "execution_count": 83
        }
      ]
    },
    {
      "cell_type": "markdown",
      "metadata": {
        "id": "Kq_OoIMA6taS",
        "colab_type": "text"
      },
      "source": [
        "We can see there are 2,695 employees left and 8,554 employees stayed in our data. \n",
        "\n",
        "The overall attrition rate of this company is 23.96%."
      ]
    },
    {
      "cell_type": "markdown",
      "metadata": {
        "id": "SrZDVdXU3yhY",
        "colab_type": "text"
      },
      "source": [
        "## Make a pie chart to visualize it"
      ]
    },
    {
      "cell_type": "code",
      "metadata": {
        "id": "RpYi5QcYrW8v",
        "colab_type": "code",
        "outputId": "82aa5734-88a6-462b-d026-2d5295e42254",
        "colab": {
          "base_uri": "https://localhost:8080/",
          "height": 500
        }
      },
      "source": [
        "fig, ax = plt.subplots()\n",
        "plt.rcParams['font.size']=16\n",
        "\n",
        "color_palette_list = ['lightgrey', '#90e4c1']\n",
        "\n",
        "percentages = percent.values.tolist()\n",
        "explode=(0.1, 0)\n",
        "labels = ['Stayed', 'Left']\n",
        "ax.pie(percentages, colors = color_palette_list[0:2], autopct = '%1.2f%%', explode=explode, shadow = False, startangle = 0, pctdistance = 1.2, labeldistance = 1.4)\n",
        "ax.axis('equal')\n",
        "ax.set_title('Attrition rate')\n",
        "ax.legend(labels)"
      ],
      "execution_count": 84,
      "outputs": [
        {
          "output_type": "execute_result",
          "data": {
            "text/plain": [
              "<matplotlib.legend.Legend at 0x7f55f8565e48>"
            ]
          },
          "metadata": {
            "tags": []
          },
          "execution_count": 84
        },
        {
          "output_type": "display_data",
          "data": {
            "image/png": "[encoded data removed]",
            "text/plain": [
              "<Figure size 1440x576 with 1 Axes>"
            ]
          },
          "metadata": {
            "tags": []
          }
        }
      ]
    },
    {
      "cell_type": "markdown",
      "metadata": {
        "id": "wpr3BRF2v-_2",
        "colab_type": "text"
      },
      "source": [
        "Obviously, we are dealing with inbalanced dataset. "
      ]
    },
    {
      "cell_type": "markdown",
      "metadata": {
        "id": "TuJ7Y1ZXI_LE",
        "colab_type": "text"
      },
      "source": [
        "## Calculate categorical means for each categorical variables"
      ]
    },
    {
      "cell_type": "markdown",
      "metadata": {
        "id": "i9TEHMsSiDlS",
        "colab_type": "text"
      },
      "source": [
        "## Department:"
      ]
    },
    {
      "cell_type": "code",
      "metadata": {
        "id": "vpRSPiwyKqMU",
        "colab_type": "code",
        "outputId": "b6b40027-003d-4246-d5c3-277fe2871c55",
        "colab": {
          "base_uri": "https://localhost:8080/",
          "height": 520
        }
      },
      "source": [
        "# Make a barplot\n",
        "df = pd.DataFrame({'dept': attrition_df['attrit'], 'attrit': attrition_df['attrit']})\n",
        "ct = pd.crosstab(attrition_df.dept, attrition_df.attrit)\n",
        "\n",
        "stacked = ct.stack().reset_index().rename(columns={0:'value'})\n",
        "ax = sns.barplot(x = stacked.dept, y = stacked.value, hue = stacked.attrit, palette = sns.color_palette('Paired'))\n",
        "\n",
        "# Set x and y lable name and the title.\n",
        "ax.set_xlabel('Department', fontsize = 16)\n",
        "ax.set_ylabel('Frequency of turnover', fontsize = 16)\n",
        "ax.set_title('Turnover frequency for department', fontsize = 16)\n",
        "\n",
        "# Set the range for y axis. \n",
        "plt.ylim([0, 2500])\n",
        "\n",
        "# Set font size for legend text and title.\n",
        "plt.setp(ax.get_legend().get_texts(), fontsize='14') \n",
        "plt.setp(ax.get_legend().get_title(), fontsize='14')\n",
        "\n",
        "# Format axes\n",
        "fmt = '{x:,.0f}'\n",
        "tick = ticker.StrMethodFormatter(fmt)\n",
        "ax.yaxis.set_major_formatter(tick)\n",
        "\n",
        "# # Set legend format \n",
        "# labels = ['left', 'stayed']\n",
        "# plt.legend(bbox_to_anchor=(1,1), loc='center left', labels = labels)"
      ],
      "execution_count": 85,
      "outputs": [
        {
          "output_type": "display_data",
          "data": {
            "image/png": "[encoded data removed]",
            "text/plain": [
              "<Figure size 1440x576 with 1 Axes>"
            ]
          },
          "metadata": {
            "tags": []
          }
        }
      ]
    },
    {
      "cell_type": "code",
      "metadata": {
        "id": "CJYhYfxXswmn",
        "colab_type": "code",
        "outputId": "73264a95-6db2-4ef9-ae01-f556c424c50c",
        "colab": {
          "base_uri": "https://localhost:8080/",
          "height": 359
        }
      },
      "source": [
        "attrition_df[['dept', 'attrit']].groupby(['dept'], as_index = False).mean().sort_values(by = 'attrit', ascending = False)"
      ],
      "execution_count": 86,
      "outputs": [
        {
          "output_type": "execute_result",
          "data": {
            "text/html": [
              "<div>\n",
              "<style scoped>\n",
              "    .dataframe tbody tr th:only-of-type {\n",
              "        vertical-align: middle;\n",
              "    }\n",
              "\n",
              "    .dataframe tbody tr th {\n",
              "        vertical-align: top;\n",
              "    }\n",
              "\n",
              "    .dataframe thead th {\n",
              "        text-align: right;\n",
              "    }\n",
              "</style>\n",
              "<table border=\"1\" class=\"dataframe\">\n",
              "  <thead>\n",
              "    <tr style=\"text-align: right;\">\n",
              "      <th></th>\n",
              "      <th>dept</th>\n",
              "      <th>attrit</th>\n",
              "    </tr>\n",
              "  </thead>\n",
              "  <tbody>\n",
              "    <tr>\n",
              "      <th>3</th>\n",
              "      <td>HR</td>\n",
              "      <td>0.277477</td>\n",
              "    </tr>\n",
              "    <tr>\n",
              "      <th>2</th>\n",
              "      <td>FIN</td>\n",
              "      <td>0.267703</td>\n",
              "    </tr>\n",
              "    <tr>\n",
              "      <th>9</th>\n",
              "      <td>TECH</td>\n",
              "      <td>0.261732</td>\n",
              "    </tr>\n",
              "    <tr>\n",
              "      <th>8</th>\n",
              "      <td>SALES</td>\n",
              "      <td>0.250484</td>\n",
              "    </tr>\n",
              "    <tr>\n",
              "      <th>0</th>\n",
              "      <td>ADMIN</td>\n",
              "      <td>0.246117</td>\n",
              "    </tr>\n",
              "    <tr>\n",
              "      <th>6</th>\n",
              "      <td>PM</td>\n",
              "      <td>0.227273</td>\n",
              "    </tr>\n",
              "    <tr>\n",
              "      <th>4</th>\n",
              "      <td>IS</td>\n",
              "      <td>0.226125</td>\n",
              "    </tr>\n",
              "    <tr>\n",
              "      <th>5</th>\n",
              "      <td>MKT</td>\n",
              "      <td>0.222920</td>\n",
              "    </tr>\n",
              "    <tr>\n",
              "      <th>7</th>\n",
              "      <td>RTD</td>\n",
              "      <td>0.157618</td>\n",
              "    </tr>\n",
              "    <tr>\n",
              "      <th>1</th>\n",
              "      <td>EXEC</td>\n",
              "      <td>0.134737</td>\n",
              "    </tr>\n",
              "  </tbody>\n",
              "</table>\n",
              "</div>"
            ],
            "text/plain": [
              "    dept    attrit\n",
              "3     HR  0.277477\n",
              "2    FIN  0.267703\n",
              "9   TECH  0.261732\n",
              "8  SALES  0.250484\n",
              "0  ADMIN  0.246117\n",
              "6     PM  0.227273\n",
              "4     IS  0.226125\n",
              "5    MKT  0.222920\n",
              "7    RTD  0.157618\n",
              "1   EXEC  0.134737"
            ]
          },
          "metadata": {
            "tags": []
          },
          "execution_count": 86
        }
      ]
    },
    {
      "cell_type": "markdown",
      "metadata": {
        "id": "FwfoeWANqonV",
        "colab_type": "text"
      },
      "source": [
        "We can see that RTD and EXEC deptartments seem to experience the least turnover, while the other departments have similar turnover rates. "
      ]
    },
    {
      "cell_type": "markdown",
      "metadata": {
        "id": "J8O2mymjqcbE",
        "colab_type": "text"
      },
      "source": [
        "## Salary level:"
      ]
    },
    {
      "cell_type": "code",
      "metadata": {
        "id": "emQ5ppUKqerb",
        "colab_type": "code",
        "outputId": "6f293959-b9da-48fe-9558-bfba5cb17fae",
        "colab": {
          "base_uri": "https://localhost:8080/",
          "height": 541
        }
      },
      "source": [
        "# Make a stackedplot\n",
        "table = pd.crosstab(attrition_df.salary, attrition_df.attrit)\n",
        "proportion = table.div(table.sum(1).astype(float), axis = 0)\n",
        "proportion.plot.barh(stacked = True, color = ['lightskyblue', 'powderblue'], width = 0.3, legend = True)\n",
        "plt.title('Salary level vs turnover')\n",
        "plt.xlabel('Proportion of employees')\n",
        "plt.ylabel('Salary level')\n",
        "\n",
        "# Set legend format \n",
        "labels = ['stayed', 'left']\n",
        "plt.legend(bbox_to_anchor=(1,1), loc='center left', labels = labels)\n",
        "\n",
        "# Set the range for x axis. \n",
        "plt.xlim([0, 1])"
      ],
      "execution_count": 87,
      "outputs": [
        {
          "output_type": "execute_result",
          "data": {
            "text/plain": [
              "(0.0, 1.0)"
            ]
          },
          "metadata": {
            "tags": []
          },
          "execution_count": 87
        },
        {
          "output_type": "display_data",
          "data": {
            "image/png": "[encoded data removed]",
            "text/plain": [
              "<Figure size 1440x576 with 1 Axes>"
            ]
          },
          "metadata": {
            "tags": []
          }
        }
      ]
    },
    {
      "cell_type": "markdown",
      "metadata": {
        "id": "OClk5NFFIE4S",
        "colab_type": "text"
      },
      "source": [
        "As expected, salary is correlated with how likely someone will leave.\n",
        "\n",
        "Employees who received small salary level left the company most. "
      ]
    },
    {
      "cell_type": "markdown",
      "metadata": {
        "id": "kSn5dnMUIf9Q",
        "colab_type": "text"
      },
      "source": [
        "## Visualize the clear relationships between key quantitative variables and attrition"
      ]
    },
    {
      "cell_type": "markdown",
      "metadata": {
        "id": "K4sHzo6i8bne",
        "colab_type": "text"
      },
      "source": [
        "Before identifying what the key variables are, I want to get a sense of the numbers across 2 classes in attrit variable."
      ]
    },
    {
      "cell_type": "code",
      "metadata": {
        "id": "N3Lj4Wyv8x7O",
        "colab_type": "code",
        "outputId": "3ca01fe7-23d5-40e5-c287-2f0fc4865c04",
        "colab": {
          "base_uri": "https://localhost:8080/",
          "height": 142
        }
      },
      "source": [
        "attrition_df.groupby('attrit').mean()"
      ],
      "execution_count": 88,
      "outputs": [
        {
          "output_type": "execute_result",
          "data": {
            "text/html": [
              "<div>\n",
              "<style scoped>\n",
              "    .dataframe tbody tr th:only-of-type {\n",
              "        vertical-align: middle;\n",
              "    }\n",
              "\n",
              "    .dataframe tbody tr th {\n",
              "        vertical-align: top;\n",
              "    }\n",
              "\n",
              "    .dataframe thead th {\n",
              "        text-align: right;\n",
              "    }\n",
              "</style>\n",
              "<table border=\"1\" class=\"dataframe\">\n",
              "  <thead>\n",
              "    <tr style=\"text-align: right;\">\n",
              "      <th></th>\n",
              "      <th>employee_satisfaction</th>\n",
              "      <th>last_performance_rating</th>\n",
              "      <th>workload</th>\n",
              "      <th>avg_montly_hours</th>\n",
              "      <th>tenure_years</th>\n",
              "      <th>ergo_issues</th>\n",
              "      <th>promo_in_last_5_years</th>\n",
              "    </tr>\n",
              "    <tr>\n",
              "      <th>attrit</th>\n",
              "      <th></th>\n",
              "      <th></th>\n",
              "      <th></th>\n",
              "      <th></th>\n",
              "      <th></th>\n",
              "      <th></th>\n",
              "      <th></th>\n",
              "    </tr>\n",
              "  </thead>\n",
              "  <tbody>\n",
              "    <tr>\n",
              "      <th>0</th>\n",
              "      <td>0.667108</td>\n",
              "      <td>0.715087</td>\n",
              "      <td>3.779635</td>\n",
              "      <td>198.999766</td>\n",
              "      <td>3.379238</td>\n",
              "      <td>0.175473</td>\n",
              "      <td>0.027473</td>\n",
              "    </tr>\n",
              "    <tr>\n",
              "      <th>1</th>\n",
              "      <td>0.441080</td>\n",
              "      <td>0.719837</td>\n",
              "      <td>3.863451</td>\n",
              "      <td>208.086456</td>\n",
              "      <td>3.881633</td>\n",
              "      <td>0.048237</td>\n",
              "      <td>0.004082</td>\n",
              "    </tr>\n",
              "  </tbody>\n",
              "</table>\n",
              "</div>"
            ],
            "text/plain": [
              "        employee_satisfaction  ...  promo_in_last_5_years\n",
              "attrit                         ...                       \n",
              "0                    0.667108  ...               0.027473\n",
              "1                    0.441080  ...               0.004082\n",
              "\n",
              "[2 rows x 7 columns]"
            ]
          },
          "metadata": {
            "tags": []
          },
          "execution_count": 88
        }
      ]
    },
    {
      "cell_type": "code",
      "metadata": {
        "id": "VyB-HYaMDag-",
        "colab_type": "code",
        "colab": {
          "base_uri": "https://localhost:8080/",
          "height": 1000
        },
        "outputId": "2096779d-b6a7-43eb-b3a3-09ab2b9bc751"
      },
      "source": [
        "# Compute correlation matrix. \n",
        "corrmatrix = attrition_df.corr('spearman')\n",
        "\n",
        "plt.rcParams['figure.figsize'] = (20, 15)\n",
        "hm = sns.heatmap(corrmatrix, square = True, annot = True, cmap = 'YlGnBu', fmt = '.2f', annot_kws = {'size':10})\n",
        "sns.set(font_scale=1.25)\n",
        "\n",
        "# Print a dataframe to see how much each variable correlates with SalePrice.\n",
        "corrmatrix['attrit'].sort_values(ascending=False).round(3).head(10).to_frame()"
      ],
      "execution_count": 89,
      "outputs": [
        {
          "output_type": "execute_result",
          "data": {
            "text/html": [
              "<div>\n",
              "<style scoped>\n",
              "    .dataframe tbody tr th:only-of-type {\n",
              "        vertical-align: middle;\n",
              "    }\n",
              "\n",
              "    .dataframe tbody tr th {\n",
              "        vertical-align: top;\n",
              "    }\n",
              "\n",
              "    .dataframe thead th {\n",
              "        text-align: right;\n",
              "    }\n",
              "</style>\n",
              "<table border=\"1\" class=\"dataframe\">\n",
              "  <thead>\n",
              "    <tr style=\"text-align: right;\">\n",
              "      <th></th>\n",
              "      <th>attrit</th>\n",
              "    </tr>\n",
              "  </thead>\n",
              "  <tbody>\n",
              "    <tr>\n",
              "      <th>attrit</th>\n",
              "      <td>1.000</td>\n",
              "    </tr>\n",
              "    <tr>\n",
              "      <th>tenure_years</th>\n",
              "      <td>0.274</td>\n",
              "    </tr>\n",
              "    <tr>\n",
              "      <th>avg_montly_hours</th>\n",
              "      <td>0.054</td>\n",
              "    </tr>\n",
              "    <tr>\n",
              "      <th>last_performance_rating</th>\n",
              "      <td>0.002</td>\n",
              "    </tr>\n",
              "    <tr>\n",
              "      <th>workload</th>\n",
              "      <td>-0.014</td>\n",
              "    </tr>\n",
              "    <tr>\n",
              "      <th>promo_in_last_5_years</th>\n",
              "      <td>-0.068</td>\n",
              "    </tr>\n",
              "    <tr>\n",
              "      <th>ergo_issues</th>\n",
              "      <td>-0.154</td>\n",
              "    </tr>\n",
              "    <tr>\n",
              "      <th>employee_satisfaction</th>\n",
              "      <td>-0.365</td>\n",
              "    </tr>\n",
              "  </tbody>\n",
              "</table>\n",
              "</div>"
            ],
            "text/plain": [
              "                         attrit\n",
              "attrit                    1.000\n",
              "tenure_years              0.274\n",
              "avg_montly_hours          0.054\n",
              "last_performance_rating   0.002\n",
              "workload                 -0.014\n",
              "promo_in_last_5_years    -0.068\n",
              "ergo_issues              -0.154\n",
              "employee_satisfaction    -0.365"
            ]
          },
          "metadata": {
            "tags": []
          },
          "execution_count": 89
        },
        {
          "output_type": "display_data",
          "data": {
            "image/png": "[encoded data removed]",
            "text/plain": [
              "<Figure size 1440x1080 with 2 Axes>"
            ]
          },
          "metadata": {
            "tags": []
          }
        }
      ]
    },
    {
      "cell_type": "markdown",
      "metadata": {
        "id": "Q4z4tpla83WJ",
        "colab_type": "text"
      },
      "source": [
        "My observations:\n",
        "\n",
        "- The average satisfaction level of employees who stayed with the company is higher than that of the employees who left, with the average score 0.67 v.s. 0.44.\n",
        "- Employees who left the company have worked average 9 hours monthly more than that of the employees who stayed.\n",
        "- It's surprising that the employees who had workplace ergo issues are less likely to leave than that of the employee who did not have workplace ergo issues.\n",
        "- The employees who were promoted in the last 5 years are less likely to leave than those who did not get a promotion in the last five years.\n",
        "- Given that both the workload feature and avg montly hours feature exhibit similar pattern, I will only visualize the worload one for simplicity.\n",
        "\n",
        "I will visualize my data to get much clearer picture of the significant features and attrition. \n"
      ]
    },
    {
      "cell_type": "markdown",
      "metadata": {
        "id": "oKfUvKrwKrCV",
        "colab_type": "text"
      },
      "source": [
        "## 1. Emlpoyee satisfaction and attrition rate "
      ]
    },
    {
      "cell_type": "code",
      "metadata": {
        "id": "Fh1u1XY5KmZR",
        "colab_type": "code",
        "outputId": "edac590a-096c-468c-ce20-6b262db6f6c7",
        "colab": {
          "base_uri": "https://localhost:8080/",
          "height": 924
        }
      },
      "source": [
        "satis_stayed = attrition_df['employee_satisfaction'].loc[attrition_df['attrit'] == 0]\n",
        "satis_left = attrition_df['employee_satisfaction'].loc[attrition_df['attrit'] == 1]\n",
        "\n",
        "# Plot displot to see the frequency of attrion across in employee satisfaction. \n",
        "ax = sns.distplot(satis_stayed, hist = True, color = '#8f99fb', kde = False)\n",
        "ax = sns.distplot(satis_left, hist = True, color = '#d9544d', kde = False) \n",
        "plt.legend(['stayed', 'left'])\n",
        "\n",
        "# Set x and y lable name and the title.\n",
        "ax.set_xlabel('Employee satisfaction', fontsize = 16)\n",
        "ax.set_ylabel('Frequency of turnover', fontsize = 16)\n",
        "ax.set_title('Turnover frequency for emlpoyee satisfaction', fontsize = 16)"
      ],
      "execution_count": 90,
      "outputs": [
        {
          "output_type": "execute_result",
          "data": {
            "text/plain": [
              "Text(0.5, 1.0, 'Turnover frequency for emlpoyee satisfaction')"
            ]
          },
          "metadata": {
            "tags": []
          },
          "execution_count": 90
        },
        {
          "output_type": "display_data",
          "data": {
            "image/png": "[encoded data removed]",
            "text/plain": [
              "<Figure size 1440x1080 with 1 Axes>"
            ]
          },
          "metadata": {
            "tags": []
          }
        }
      ]
    },
    {
      "cell_type": "markdown",
      "metadata": {
        "id": "y-cH9rp7552X",
        "colab_type": "text"
      },
      "source": [
        "Low satisfaction levels are associated with high attrition frequency, as expected.\n",
        "\n"
      ]
    },
    {
      "cell_type": "markdown",
      "metadata": {
        "id": "CygoIzrTdTJ3",
        "colab_type": "text"
      },
      "source": [
        "## 2. Last performance rating and attrition"
      ]
    },
    {
      "cell_type": "code",
      "metadata": {
        "id": "Qfw-AQ_j7lMk",
        "colab_type": "code",
        "outputId": "ad543c63-94fa-4d30-a19e-53c777df2617",
        "colab": {
          "base_uri": "https://localhost:8080/",
          "height": 924
        }
      },
      "source": [
        "last_perf_rating_stayed = attrition_df['last_performance_rating'].loc[attrition_df['attrit'] == 0]\n",
        "last_perf_rating_left = attrition_df['last_performance_rating'].loc[attrition_df['attrit'] == 1]\n",
        "\n",
        "ax = sns.distplot(last_perf_rating_stayed, hist = True, color = 'gold', kde = False)\n",
        "ax = sns.distplot(last_perf_rating_left, hist = True, color = '#0485d1', kde = False) \n",
        "plt.legend(['stayed', 'left'])\n",
        "\n",
        "# Set x and y lable name and the title.\n",
        "ax.set_xlabel('Last performance rating', fontsize = 16)\n",
        "ax.set_ylabel('Frequency of turnover', fontsize = 16)\n",
        "ax.set_title('Turnover frequency for last performance rating', fontsize = 16)"
      ],
      "execution_count": 91,
      "outputs": [
        {
          "output_type": "execute_result",
          "data": {
            "text/plain": [
              "Text(0.5, 1.0, 'Turnover frequency for last performance rating')"
            ]
          },
          "metadata": {
            "tags": []
          },
          "execution_count": 91
        },
        {
          "output_type": "display_data",
          "data": {
            "image/png": "[encoded data removed]",
            "text/plain": [
              "<Figure size 1440x1080 with 1 Axes>"
            ]
          },
          "metadata": {
            "tags": []
          }
        }
      ]
    },
    {
      "cell_type": "markdown",
      "metadata": {
        "id": "2gDixykz4Q5N",
        "colab_type": "text"
      },
      "source": [
        "Employees who leave tend to either have received low scores (0.6 and below) or very high scores (0.8 and above). \n",
        "\n",
        "Employees last performaing rating in the middle rarely left."
      ]
    },
    {
      "cell_type": "markdown",
      "metadata": {
        "id": "lybly9276Tub",
        "colab_type": "text"
      },
      "source": [
        "## 3. Average montly hours and attrition"
      ]
    },
    {
      "cell_type": "code",
      "metadata": {
        "id": "4K3zP5lemEoK",
        "colab_type": "code",
        "outputId": "72085cb0-1c55-487f-baaf-6ca027ea8547",
        "colab": {
          "base_uri": "https://localhost:8080/",
          "height": 924
        }
      },
      "source": [
        "# Concatenate the columns of attrit and tenure_years. \n",
        "concat_ave_monthly_hours_attrit = pd.concat([attrition_df['attrit'], attrition_df['avg_montly_hours']], axis=1)\n",
        "\n",
        "# Make a boxplot.\n",
        "ax = sns.boxplot(x='attrit', y='avg_montly_hours', data = concat_ave_monthly_hours_attrit, palette = sns.color_palette('coolwarm'), showfliers = False, width = 0.5)\n",
        "plt.xticks((0, 1), ['Stayed', \"Left\"])\n",
        "\n",
        "# Set x and y lable name and the title.\n",
        "ax.set_xlabel('attrit', fontsize = 16)\n",
        "ax.set_ylabel('avg_monthly_hours', fontsize = 16)\n",
        "ax.set_title('Relationship between average monthly hours and attriton', fontsize = 16)"
      ],
      "execution_count": 92,
      "outputs": [
        {
          "output_type": "execute_result",
          "data": {
            "text/plain": [
              "Text(0.5, 1.0, 'Relationship between average monthly hours and attriton')"
            ]
          },
          "metadata": {
            "tags": []
          },
          "execution_count": 92
        },
        {
          "output_type": "display_data",
          "data": {
            "image/png": "[encoded data removed]",
            "text/plain": [
              "<Figure size 1440x1080 with 1 Axes>"
            ]
          },
          "metadata": {
            "tags": []
          }
        }
      ]
    },
    {
      "cell_type": "markdown",
      "metadata": {
        "id": "yTQpPMez61WL",
        "colab_type": "text"
      },
      "source": [
        "The chart above compares the average monthly working hours of employees in 2 groups of employees who left and stayed in company.\n",
        "\n",
        "The overall of employees left is higher than that of employees stayed in. \n",
        "\n",
        "The median average working hours of left employees is around 225 hours, which is around 11% higher than the 198 hours of stayed employees. \n",
        "\n",
        "If we based on 22 working days per month, the employees who left company have worked more 10 hours per day on average than the employees who stayed, which means the work intensity is relatively high. "
      ]
    },
    {
      "cell_type": "markdown",
      "metadata": {
        "id": "0M5VTfpkZV2_",
        "colab_type": "text"
      },
      "source": [
        "## 4. Tenure years and attrition "
      ]
    },
    {
      "cell_type": "code",
      "metadata": {
        "id": "e3gsuu1jIWAO",
        "colab_type": "code",
        "outputId": "96434f4c-5838-456a-91a7-16ff5fa8a170",
        "colab": {
          "base_uri": "https://localhost:8080/",
          "height": 940
        }
      },
      "source": [
        "# Concatenate the columns of attrit and tenure_years. \n",
        "concat_tenure_attrit = pd.concat([attrition_df['attrit'], attrition_df['tenure_years']], axis=1)\n",
        "\n",
        "# Make a boxplot.\n",
        "ax = sns.boxplot(x='attrit', y='tenure_years', data = concat_tenure_attrit, palette = sns.color_palette('Paired'), showfliers = False, width = 0.5)\n",
        "\n",
        "plt.xticks((0, 1), ['Stayed', \"Left\"])"
      ],
      "execution_count": 93,
      "outputs": [
        {
          "output_type": "execute_result",
          "data": {
            "text/plain": [
              "([<matplotlib.axis.XTick at 0x7f55fa203b70>,\n",
              "  <matplotlib.axis.XTick at 0x7f55fa203d68>],\n",
              " [Text(0, 0, 'Stayed'), Text(0, 0, 'Left')])"
            ]
          },
          "metadata": {
            "tags": []
          },
          "execution_count": 93
        },
        {
          "output_type": "display_data",
          "data": {
            "image/png": "[encoded data removed]",
            "text/plain": [
              "<Figure size 1440x1080 with 1 Axes>"
            ]
          },
          "metadata": {
            "tags": []
          }
        }
      ]
    },
    {
      "cell_type": "markdown",
      "metadata": {
        "id": "HJfZMV-3a_gc",
        "colab_type": "text"
      },
      "source": [
        "- The turnover mainly focuses on employees with a working period of 3 to 5 years. \n",
        "\n",
        "- The turnover rate of new employees who worked for 2 years is very low.\n",
        "\n",
        "- Worked above 6 years of employees have a turnover rate of zero. It indicates  a large part of the attrition belong to the profound experienced employees in the company."
      ]
    },
    {
      "cell_type": "markdown",
      "metadata": {
        "id": "oNRxdXIllgI0",
        "colab_type": "text"
      },
      "source": [
        "## 5. Ergo issues and attrition "
      ]
    },
    {
      "cell_type": "code",
      "metadata": {
        "id": "pvgYCWNZWi1L",
        "colab_type": "code",
        "outputId": "9d1a90fb-ed10-4af0-de70-1f41dec9119e",
        "colab": {
          "base_uri": "https://localhost:8080/",
          "height": 958
        }
      },
      "source": [
        "# Make a countplot.\n",
        "ax = sns.countplot(x = 'ergo_issues', hue = 'attrit', data = attrition_df, palette = sns.color_palette('pastel'))\n",
        "\n",
        "# Format legend.\n",
        "plt.legend(['stayed', 'left'])\n",
        "\n",
        "# Format axes\n",
        "fmt = '{x:,.0f}'\n",
        "tick = ticker.StrMethodFormatter(fmt)\n",
        "ax.yaxis.set_major_formatter(tick)\n",
        "\n",
        "# Set x and y lable name and the title.\n",
        "ax.set_xlabel('Ergo issues', fontsize = 16)\n",
        "ax.set_ylabel('Frequency of turnover', fontsize = 16)\n",
        "ax.set_title('Turnover frequency for ergo issues', fontsize = 16)\n",
        "\n",
        "plt.xticks((0, 1), ['Had ergo issues', \"Did not have ergo issues\"])"
      ],
      "execution_count": 94,
      "outputs": [
        {
          "output_type": "execute_result",
          "data": {
            "text/plain": [
              "([<matplotlib.axis.XTick at 0x7f55f8381d68>,\n",
              "  <matplotlib.axis.XTick at 0x7f55f8381dd8>],\n",
              " [Text(0, 0, 'Had ergo issues'), Text(0, 0, 'Did not have ergo issues')])"
            ]
          },
          "metadata": {
            "tags": []
          },
          "execution_count": 94
        },
        {
          "output_type": "display_data",
          "data": {
            "image/png": "[encoded data removed]",
            "text/plain": [
              "<Figure size 1440x1080 with 1 Axes>"
            ]
          },
          "metadata": {
            "tags": []
          }
        }
      ]
    },
    {
      "cell_type": "markdown",
      "metadata": {
        "id": "ltvP-CHS3BPi",
        "colab_type": "text"
      },
      "source": [
        "We can see employees who had ergo issues left company more than who did not have ergo issues. "
      ]
    },
    {
      "cell_type": "markdown",
      "metadata": {
        "id": "f32kH8eG-rTE",
        "colab_type": "text"
      },
      "source": [
        "## 6. Promo in last 5 years and attrition"
      ]
    },
    {
      "cell_type": "code",
      "metadata": {
        "id": "bJZBo022JgoW",
        "colab_type": "code",
        "outputId": "f0fefc19-e028-4cba-ae8f-83366d36a7c9",
        "colab": {
          "base_uri": "https://localhost:8080/",
          "height": 958
        }
      },
      "source": [
        "# Make a countplot.\n",
        "ax = sns.countplot(x = 'promo_in_last_5_years', hue = 'attrit', data = attrition_df, palette = sns.color_palette('coolwarm'))\n",
        "\n",
        "# Format legend.\n",
        "plt.legend(['stayed', 'left'])\n",
        "\n",
        "# Format axes\n",
        "fmt = '{x:,.0f}'\n",
        "tick = ticker.StrMethodFormatter(fmt)\n",
        "ax.yaxis.set_major_formatter(tick)\n",
        "\n",
        "# Set x and y lable name and the title.\n",
        "ax.set_xlabel('Whether have promoted in last 5 years', fontsize = 16)\n",
        "ax.set_ylabel('Frequency of turnover', fontsize = 16)\n",
        "ax.set_title('Promo in last 5 years and attrition', fontsize = 16)\n",
        "\n",
        "plt.xticks((0, 1), ['Have not been promoted', \"Have been promoted\"])"
      ],
      "execution_count": 95,
      "outputs": [
        {
          "output_type": "execute_result",
          "data": {
            "text/plain": [
              "([<matplotlib.axis.XTick at 0x7f55f844ffd0>,\n",
              "  <matplotlib.axis.XTick at 0x7f55f844ff98>],\n",
              " [Text(0, 0, 'Have not been promoted'), Text(0, 0, 'Have been promoted')])"
            ]
          },
          "metadata": {
            "tags": []
          },
          "execution_count": 95
        },
        {
          "output_type": "display_data",
          "data": {
            "image/png": "[encoded data removed]",
            "text/plain": [
              "<Figure size 1440x1080 with 1 Axes>"
            ]
          },
          "metadata": {
            "tags": []
          }
        }
      ]
    },
    {
      "cell_type": "markdown",
      "metadata": {
        "id": "v0qAQUf1F7Vv",
        "colab_type": "text"
      },
      "source": [
        "Most of the employees who did not get promotion in last 5 years.\n",
        "\n",
        "Although just a few of employees who have been promoted, the attrition frequenct is less when employees got promotion."
      ]
    },
    {
      "cell_type": "markdown",
      "metadata": {
        "id": "StrERGiNSgzO",
        "colab_type": "text"
      },
      "source": [
        "# **Part 3 - Determine the causes for attrition by logistic regression**"
      ]
    },
    {
      "cell_type": "markdown",
      "metadata": {
        "id": "9EA7uT3XVhHk",
        "colab_type": "text"
      },
      "source": [
        "## Convert 2 categorical variables, 'dept' and 'salary' to dummy variables\n"
      ]
    },
    {
      "cell_type": "code",
      "metadata": {
        "id": "q9kAAxCmQ0k1",
        "colab_type": "code",
        "colab": {}
      },
      "source": [
        "cat_vars = ['dept', 'salary']\n",
        "for var in cat_vars:\n",
        "    cat_list = 'var' + '_' + var\n",
        "    cat_list = pd.get_dummies(attrition_df[var], prefix = var)\n",
        "    attrition_df = attrition_df.join(cat_list)"
      ],
      "execution_count": 0,
      "outputs": []
    },
    {
      "cell_type": "code",
      "metadata": {
        "id": "EIajH5lBRRRl",
        "colab_type": "code",
        "outputId": "96b58b2a-ae5c-498d-f54d-6c17970eb9f9",
        "colab": {
          "base_uri": "https://localhost:8080/",
          "height": 119
        }
      },
      "source": [
        "attrition_df.drop(['dept', 'salary'], axis=1, inplace=True)\n",
        "attrition_df.columns.values"
      ],
      "execution_count": 97,
      "outputs": [
        {
          "output_type": "execute_result",
          "data": {
            "text/plain": [
              "array(['employee_satisfaction', 'last_performance_rating', 'workload',\n",
              "       'avg_montly_hours', 'tenure_years', 'ergo_issues', 'attrit',\n",
              "       'promo_in_last_5_years', 'dept_ADMIN', 'dept_EXEC', 'dept_FIN',\n",
              "       'dept_HR', 'dept_IS', 'dept_MKT', 'dept_PM', 'dept_RTD',\n",
              "       'dept_SALES', 'dept_TECH', 'salary_LARGE', 'salary_MEDIUM',\n",
              "       'salary_SMALL'], dtype=object)"
            ]
          },
          "metadata": {
            "tags": []
          },
          "execution_count": 97
        }
      ]
    },
    {
      "cell_type": "code",
      "metadata": {
        "id": "Tf6csuCPdCLk",
        "colab_type": "code",
        "outputId": "8a73a46c-034a-4631-d36c-2851f095dc9a",
        "colab": {
          "base_uri": "https://localhost:8080/",
          "height": 100
        }
      },
      "source": [
        "attrition_df.head(1)"
      ],
      "execution_count": 98,
      "outputs": [
        {
          "output_type": "execute_result",
          "data": {
            "text/html": [
              "<div>\n",
              "<style scoped>\n",
              "    .dataframe tbody tr th:only-of-type {\n",
              "        vertical-align: middle;\n",
              "    }\n",
              "\n",
              "    .dataframe tbody tr th {\n",
              "        vertical-align: top;\n",
              "    }\n",
              "\n",
              "    .dataframe thead th {\n",
              "        text-align: right;\n",
              "    }\n",
              "</style>\n",
              "<table border=\"1\" class=\"dataframe\">\n",
              "  <thead>\n",
              "    <tr style=\"text-align: right;\">\n",
              "      <th></th>\n",
              "      <th>employee_satisfaction</th>\n",
              "      <th>last_performance_rating</th>\n",
              "      <th>workload</th>\n",
              "      <th>avg_montly_hours</th>\n",
              "      <th>tenure_years</th>\n",
              "      <th>ergo_issues</th>\n",
              "      <th>attrit</th>\n",
              "      <th>promo_in_last_5_years</th>\n",
              "      <th>dept_ADMIN</th>\n",
              "      <th>dept_EXEC</th>\n",
              "      <th>dept_FIN</th>\n",
              "      <th>dept_HR</th>\n",
              "      <th>dept_IS</th>\n",
              "      <th>dept_MKT</th>\n",
              "      <th>dept_PM</th>\n",
              "      <th>dept_RTD</th>\n",
              "      <th>dept_SALES</th>\n",
              "      <th>dept_TECH</th>\n",
              "      <th>salary_LARGE</th>\n",
              "      <th>salary_MEDIUM</th>\n",
              "      <th>salary_SMALL</th>\n",
              "    </tr>\n",
              "  </thead>\n",
              "  <tbody>\n",
              "    <tr>\n",
              "      <th>0</th>\n",
              "      <td>0.82</td>\n",
              "      <td>0.97</td>\n",
              "      <td>3</td>\n",
              "      <td>244</td>\n",
              "      <td>5</td>\n",
              "      <td>0</td>\n",
              "      <td>0</td>\n",
              "      <td>0</td>\n",
              "      <td>0</td>\n",
              "      <td>0</td>\n",
              "      <td>0</td>\n",
              "      <td>0</td>\n",
              "      <td>0</td>\n",
              "      <td>0</td>\n",
              "      <td>0</td>\n",
              "      <td>0</td>\n",
              "      <td>1</td>\n",
              "      <td>0</td>\n",
              "      <td>0</td>\n",
              "      <td>1</td>\n",
              "      <td>0</td>\n",
              "    </tr>\n",
              "  </tbody>\n",
              "</table>\n",
              "</div>"
            ],
            "text/plain": [
              "   employee_satisfaction  last_performance_rating  ...  salary_MEDIUM  salary_SMALL\n",
              "0                   0.82                     0.97  ...              1             0\n",
              "\n",
              "[1 rows x 21 columns]"
            ]
          },
          "metadata": {
            "tags": []
          },
          "execution_count": 98
        }
      ]
    },
    {
      "cell_type": "markdown",
      "metadata": {
        "id": "6gr2erSbBKyX",
        "colab_type": "text"
      },
      "source": [
        "## Logistic regression model development"
      ]
    },
    {
      "cell_type": "code",
      "metadata": {
        "id": "CKgUCDmPMui6",
        "colab_type": "code",
        "outputId": "097d76f7-9a49-4827-a34b-6d1942472e55",
        "colab": {
          "base_uri": "https://localhost:8080/",
          "height": 51
        }
      },
      "source": [
        "# Set X and y. \n",
        "\n",
        "X = attrition_df.drop('attrit', axis=1)\n",
        "y = attrition_df['attrit']\n",
        "\n",
        "# Train and test sets: 70% and 30% \n",
        "X_train, X_test, y_train, y_test = train_test_split(X, y, test_size = 0.3, random_state = 1)\n",
        "\n",
        "print (X_train.shape, y_train.shape)\n",
        "print (X_test.shape, y_test.shape)"
      ],
      "execution_count": 99,
      "outputs": [
        {
          "output_type": "stream",
          "text": [
            "(7874, 20) (7874,)\n",
            "(3375, 20) (3375,)\n"
          ],
          "name": "stdout"
        }
      ]
    },
    {
      "cell_type": "code",
      "metadata": {
        "id": "7BGQnEZ1NFtC",
        "colab_type": "code",
        "outputId": "7e83e1c1-e055-4391-b189-0131375067f3",
        "colab": {
          "base_uri": "https://localhost:8080/",
          "height": 102
        }
      },
      "source": [
        "# Initialize logistic regressor\n",
        "model = LogisticRegression(C = 3.2, max_iter = 1000)\n",
        "\n",
        "# Fit the model\n",
        "model.fit(X_train, y_train.values.ravel())"
      ],
      "execution_count": 100,
      "outputs": [
        {
          "output_type": "execute_result",
          "data": {
            "text/plain": [
              "LogisticRegression(C=3.2, class_weight=None, dual=False, fit_intercept=True,\n",
              "                   intercept_scaling=1, l1_ratio=None, max_iter=1000,\n",
              "                   multi_class='auto', n_jobs=None, penalty='l2',\n",
              "                   random_state=None, solver='lbfgs', tol=0.0001, verbose=0,\n",
              "                   warm_start=False)"
            ]
          },
          "metadata": {
            "tags": []
          },
          "execution_count": 100
        }
      ]
    },
    {
      "cell_type": "code",
      "metadata": {
        "id": "WSVgPa1K2YxN",
        "colab_type": "code",
        "colab": {
          "base_uri": "https://localhost:8080/",
          "height": 34
        },
        "outputId": "b3df0212-1325-4850-cbe5-b68fb7d5346f"
      },
      "source": [
        "# Let's score the model\n",
        "print('Accuracy score: ', model.score(X_test, y_test).round(3))"
      ],
      "execution_count": 101,
      "outputs": [
        {
          "output_type": "stream",
          "text": [
            "Accuracy score:  0.792\n"
          ],
          "name": "stdout"
        }
      ]
    },
    {
      "cell_type": "code",
      "metadata": {
        "id": "YQKH-cIx2uEe",
        "colab_type": "code",
        "colab": {
          "base_uri": "https://localhost:8080/",
          "height": 34
        },
        "outputId": "3160350f-40ff-4cd1-d5e2-6e9e50432498"
      },
      "source": [
        "# Check the bias \n",
        "\n",
        "print('Bias: ', model.intercept_)"
      ],
      "execution_count": 102,
      "outputs": [
        {
          "output_type": "stream",
          "text": [
            "Bias:  [-0.38467759]\n"
          ],
          "name": "stdout"
        }
      ]
    },
    {
      "cell_type": "code",
      "metadata": {
        "id": "mVHfLnAn15vF",
        "colab_type": "code",
        "colab": {
          "base_uri": "https://localhost:8080/",
          "height": 34
        },
        "outputId": "a437b24d-1cbd-4dc8-e14a-f301558e703a"
      },
      "source": [
        "# Get predictions for the test set.\n",
        "# Each value corresponds to a transaction outcome of 0 (no) or 1 (yes)\n",
        "\n",
        "model.predict(X_test)"
      ],
      "execution_count": 103,
      "outputs": [
        {
          "output_type": "execute_result",
          "data": {
            "text/plain": [
              "array([0, 0, 0, ..., 0, 0, 0])"
            ]
          },
          "metadata": {
            "tags": []
          },
          "execution_count": 103
        }
      ]
    },
    {
      "cell_type": "markdown",
      "metadata": {
        "id": "7rTm4NhFdmv3",
        "colab_type": "text"
      },
      "source": [
        "## Rank the welght value to see the importance (influence) of each feature (by absolute value)"
      ]
    },
    {
      "cell_type": "code",
      "metadata": {
        "id": "0EiDMTGHNZC5",
        "colab_type": "code",
        "outputId": "4d1f0cc1-5788-48d7-93cb-f609b9556fee",
        "colab": {
          "base_uri": "https://localhost:8080/",
          "height": 669
        }
      },
      "source": [
        "coeff_df = pd.DataFrame(X_train.columns)\n",
        "coeff_df.columns = ['Features']\n",
        "\n",
        "coeff_df['Coefficient'] = pd.Series(model.coef_[0])\n",
        "\n",
        "coeff_df.sort_values(by = 'Coefficient', ascending = False)\n",
        "\n",
        "coeff_df.iloc[coeff_df['Coefficient'].abs().argsort()[::-1]].round(4)"
      ],
      "execution_count": 104,
      "outputs": [
        {
          "output_type": "execute_result",
          "data": {
            "text/html": [
              "<div>\n",
              "<style scoped>\n",
              "    .dataframe tbody tr th:only-of-type {\n",
              "        vertical-align: middle;\n",
              "    }\n",
              "\n",
              "    .dataframe tbody tr th {\n",
              "        vertical-align: top;\n",
              "    }\n",
              "\n",
              "    .dataframe thead th {\n",
              "        text-align: right;\n",
              "    }\n",
              "</style>\n",
              "<table border=\"1\" class=\"dataframe\">\n",
              "  <thead>\n",
              "    <tr style=\"text-align: right;\">\n",
              "      <th></th>\n",
              "      <th>Features</th>\n",
              "      <th>Coefficient</th>\n",
              "    </tr>\n",
              "  </thead>\n",
              "  <tbody>\n",
              "    <tr>\n",
              "      <th>0</th>\n",
              "      <td>employee_satisfaction</td>\n",
              "      <td>-4.0793</td>\n",
              "    </tr>\n",
              "    <tr>\n",
              "      <th>5</th>\n",
              "      <td>ergo_issues</td>\n",
              "      <td>-1.5531</td>\n",
              "    </tr>\n",
              "    <tr>\n",
              "      <th>6</th>\n",
              "      <td>promo_in_last_5_years</td>\n",
              "      <td>-1.5005</td>\n",
              "    </tr>\n",
              "    <tr>\n",
              "      <th>17</th>\n",
              "      <td>salary_LARGE</td>\n",
              "      <td>-1.2400</td>\n",
              "    </tr>\n",
              "    <tr>\n",
              "      <th>19</th>\n",
              "      <td>salary_SMALL</td>\n",
              "      <td>0.7074</td>\n",
              "    </tr>\n",
              "    <tr>\n",
              "      <th>1</th>\n",
              "      <td>last_performance_rating</td>\n",
              "      <td>0.6994</td>\n",
              "    </tr>\n",
              "    <tr>\n",
              "      <th>8</th>\n",
              "      <td>dept_EXEC</td>\n",
              "      <td>-0.5254</td>\n",
              "    </tr>\n",
              "    <tr>\n",
              "      <th>14</th>\n",
              "      <td>dept_RTD</td>\n",
              "      <td>-0.5229</td>\n",
              "    </tr>\n",
              "    <tr>\n",
              "      <th>2</th>\n",
              "      <td>workload</td>\n",
              "      <td>-0.2857</td>\n",
              "    </tr>\n",
              "    <tr>\n",
              "      <th>4</th>\n",
              "      <td>tenure_years</td>\n",
              "      <td>0.2781</td>\n",
              "    </tr>\n",
              "    <tr>\n",
              "      <th>10</th>\n",
              "      <td>dept_HR</td>\n",
              "      <td>0.2610</td>\n",
              "    </tr>\n",
              "    <tr>\n",
              "      <th>16</th>\n",
              "      <td>dept_TECH</td>\n",
              "      <td>0.2459</td>\n",
              "    </tr>\n",
              "    <tr>\n",
              "      <th>18</th>\n",
              "      <td>salary_MEDIUM</td>\n",
              "      <td>0.1705</td>\n",
              "    </tr>\n",
              "    <tr>\n",
              "      <th>15</th>\n",
              "      <td>dept_SALES</td>\n",
              "      <td>0.1286</td>\n",
              "    </tr>\n",
              "    <tr>\n",
              "      <th>7</th>\n",
              "      <td>dept_ADMIN</td>\n",
              "      <td>0.0960</td>\n",
              "    </tr>\n",
              "    <tr>\n",
              "      <th>11</th>\n",
              "      <td>dept_IS</td>\n",
              "      <td>-0.0469</td>\n",
              "    </tr>\n",
              "    <tr>\n",
              "      <th>3</th>\n",
              "      <td>avg_montly_hours</td>\n",
              "      <td>0.0041</td>\n",
              "    </tr>\n",
              "    <tr>\n",
              "      <th>9</th>\n",
              "      <td>dept_FIN</td>\n",
              "      <td>0.0028</td>\n",
              "    </tr>\n",
              "    <tr>\n",
              "      <th>12</th>\n",
              "      <td>dept_MKT</td>\n",
              "      <td>-0.0018</td>\n",
              "    </tr>\n",
              "    <tr>\n",
              "      <th>13</th>\n",
              "      <td>dept_PM</td>\n",
              "      <td>0.0005</td>\n",
              "    </tr>\n",
              "  </tbody>\n",
              "</table>\n",
              "</div>"
            ],
            "text/plain": [
              "                   Features  Coefficient\n",
              "0     employee_satisfaction      -4.0793\n",
              "5               ergo_issues      -1.5531\n",
              "6     promo_in_last_5_years      -1.5005\n",
              "17             salary_LARGE      -1.2400\n",
              "19             salary_SMALL       0.7074\n",
              "1   last_performance_rating       0.6994\n",
              "8                 dept_EXEC      -0.5254\n",
              "14                 dept_RTD      -0.5229\n",
              "2                  workload      -0.2857\n",
              "4              tenure_years       0.2781\n",
              "10                  dept_HR       0.2610\n",
              "16                dept_TECH       0.2459\n",
              "18            salary_MEDIUM       0.1705\n",
              "15               dept_SALES       0.1286\n",
              "7                dept_ADMIN       0.0960\n",
              "11                  dept_IS      -0.0469\n",
              "3          avg_montly_hours       0.0041\n",
              "9                  dept_FIN       0.0028\n",
              "12                 dept_MKT      -0.0018\n",
              "13                  dept_PM       0.0005"
            ]
          },
          "metadata": {
            "tags": []
          },
          "execution_count": 104
        }
      ]
    },
    {
      "cell_type": "markdown",
      "metadata": {
        "id": "KD1J4wVskLfg",
        "colab_type": "text"
      },
      "source": [
        "## **Summary on the the causes for attrition**\n",
        "\n",
        "The top 5 reasons for attrion are below.\n",
        "\n",
        " 1. employee_satisfaction\n",
        " 2. ergo_issues\n",
        " 3. promo_in_last_5_years\n",
        " 4. salary (salary_LARGE and salary_SMALL are considered as same feature)\n",
        " 5. last_performance_rating"
      ]
    },
    {
      "cell_type": "markdown",
      "metadata": {
        "id": "RnmNhEWqmjDd",
        "colab_type": "text"
      },
      "source": [
        "# **Part 4 - Assess the performance of my model**"
      ]
    },
    {
      "cell_type": "markdown",
      "metadata": {
        "id": "SiSbGohTyv9U",
        "colab_type": "text"
      },
      "source": [
        "Since I am dealing with inbalanced dataset, the accuracy is not the best metric to use.\n",
        "\n",
        "I would like to look at the following performance measures that can give more insight into the accuracy of the model than traditional classification accuracy:\n",
        "\n",
        "- Confusion Matrix: A breakdown of predictions into a table showing correct predictions (the diagonal) and the types of incorrect predictions made (what classes incorrect predictions were assigned).\n",
        "- Precision: A measure of a classifiers exactness.\n",
        "- Recall: A measure of a classifiers completeness\n",
        "- F1 Score (or F-score): A weighted average of precision and recall.\n",
        "- ROC Curves: like precision and recall, accuracy is divided into sensitivity and specificity and models can be chosen based on the balance thresholds of these values.\n",
        "\n",
        "*Reference*\n",
        "\n",
        "- 8 Tactics to Combat Imbalanced Classes in Your Machine Learning Dataset: https://machinelearningmastery.com/tactics-to-combat-imbalanced-classes-in-your-machine-learning-dataset/"
      ]
    },
    {
      "cell_type": "markdown",
      "metadata": {
        "id": "peFr0gVy0HhF",
        "colab_type": "text"
      },
      "source": [
        "## 1. Accuracy score"
      ]
    },
    {
      "cell_type": "code",
      "metadata": {
        "id": "tz0YOA6wyOOA",
        "colab_type": "code",
        "colab": {
          "base_uri": "https://localhost:8080/",
          "height": 34
        },
        "outputId": "a2387cc1-89e6-41c5-984a-42ee0fba7fcf"
      },
      "source": [
        "acc = model.score(X_test, y_test).round(3) * 100\n",
        "print('Accuracy score: ', acc, str('%'))"
      ],
      "execution_count": 105,
      "outputs": [
        {
          "output_type": "stream",
          "text": [
            "Accuracy score:  79.2 %\n"
          ],
          "name": "stdout"
        }
      ]
    },
    {
      "cell_type": "markdown",
      "metadata": {
        "id": "_oibIND30KJL",
        "colab_type": "text"
      },
      "source": [
        "## 2. F1 score, precision and recall value"
      ]
    },
    {
      "cell_type": "code",
      "metadata": {
        "id": "pJBCtFXrVHws",
        "colab_type": "code",
        "colab": {
          "base_uri": "https://localhost:8080/",
          "height": 170
        },
        "outputId": "729612a2-4121-4fde-e672-9c2583bad3b6"
      },
      "source": [
        "print(classification_report(y_test, model.predict(X_test)))"
      ],
      "execution_count": 106,
      "outputs": [
        {
          "output_type": "stream",
          "text": [
            "              precision    recall  f1-score   support\n",
            "\n",
            "           0       0.83      0.93      0.87      2596\n",
            "           1       0.58      0.35      0.44       779\n",
            "\n",
            "    accuracy                           0.79      3375\n",
            "   macro avg       0.70      0.64      0.65      3375\n",
            "weighted avg       0.77      0.79      0.77      3375\n",
            "\n"
          ],
          "name": "stdout"
        }
      ]
    },
    {
      "cell_type": "markdown",
      "metadata": {
        "id": "AAERzZ8m0NW4",
        "colab_type": "text"
      },
      "source": [
        "## 3. Visualize confusion matrix by heatmap"
      ]
    },
    {
      "cell_type": "code",
      "metadata": {
        "id": "OriZ-IIRV8VG",
        "colab_type": "code",
        "colab": {
          "base_uri": "https://localhost:8080/",
          "height": 907
        },
        "outputId": "63848ffb-02fc-4c4c-e924-64006aec7d60"
      },
      "source": [
        "logreg_y_pred = model.predict(X_test)\n",
        "logreg_cm = metrics.confusion_matrix(logreg_y_pred, y_test, [1,0])\n",
        "sns.heatmap(logreg_cm, annot=True, fmt='.2f', xticklabels = ['Left', 'Stayed'] , yticklabels = ['Left', 'Stayed'], cmap = 'GnBu')\n",
        "plt.ylabel('True class')\n",
        "plt.xlabel('Predicted class')\n",
        "plt.title('Logistic Regression')\n",
        "plt.savefig('logistic_regression')"
      ],
      "execution_count": 107,
      "outputs": [
        {
          "output_type": "display_data",
          "data": {
            "image/png": "[encoded data removed]",
            "text/plain": [
              "<Figure size 1440x1080 with 2 Axes>"
            ]
          },
          "metadata": {
            "tags": []
          }
        }
      ]
    },
    {
      "cell_type": "markdown",
      "metadata": {
        "id": "ZOfxg3vB0RUI",
        "colab_type": "text"
      },
      "source": [
        "## 4. Visualize ROC curve"
      ]
    },
    {
      "cell_type": "code",
      "metadata": {
        "id": "4VZq2L-dk4mT",
        "colab_type": "code",
        "colab": {
          "base_uri": "https://localhost:8080/",
          "height": 526
        },
        "outputId": "63659a3f-54f6-485d-ca7d-1cc62ad99b3f"
      },
      "source": [
        "# Set the figure size. \n",
        "rcParams['figure.figsize'] = (20, 8)\n",
        "\n",
        "# Compute ROC value. \n",
        "auc = roc_auc_score(y_test, model.predict(X_test)).round(2)\n",
        "fpr, tpr, thresholds = roc_curve(y_test, model.predict_proba(X_test)[:,1])\n",
        "\n",
        "# Visualization. \n",
        "plt.figure()\n",
        "plt.plot(fpr, tpr, label='Logistic Regression, auc = '+str(auc))\n",
        "plt.plot([0, 1], [0, 1],'r--')\n",
        "plt.xlim([0.0, 1.0])\n",
        "plt.ylim([0.0, 1.05])\n",
        "plt.xlabel('False Positive Rate')\n",
        "plt.ylabel('True Positive Rate')\n",
        "plt.title('Receiver Operating Characteristic (ROC)')\n",
        "plt.legend(loc=\"lower right\")\n",
        "plt.savefig('ROC')\n",
        "plt.show()"
      ],
      "execution_count": 108,
      "outputs": [
        {
          "output_type": "display_data",
          "data": {
            "image/png": "[encoded data removed]",
            "text/plain": [
              "<Figure size 1440x576 with 1 Axes>"
            ]
          },
          "metadata": {
            "tags": []
          }
        }
      ]
    },
    {
      "cell_type": "markdown",
      "metadata": {
        "id": "W3i81y19Zujq",
        "colab_type": "text"
      },
      "source": [
        "The receiver operating characteristic (ROC) curve is a common tool used with binary classifiers. \n",
        "\n",
        "The dotted line represents the ROC curve of a purely random classifier; a good classifier stays as far away from that line as possible (toward the top-left corner).\n",
        "\n"
      ]
    },
    {
      "cell_type": "markdown",
      "metadata": {
        "id": "cnpEaJWuuQHo",
        "colab_type": "text"
      },
      "source": [
        "## **Part 5 - Generate 5 sample predictions for input values of my choosing**"
      ]
    },
    {
      "cell_type": "code",
      "metadata": {
        "id": "LP3HuOhyLVg-",
        "colab_type": "code",
        "colab": {
          "base_uri": "https://localhost:8080/",
          "height": 224
        },
        "outputId": "a856c4a4-a57a-45fc-a5aa-ce946db6418c"
      },
      "source": [
        "# Generate 5 samples for each variable. \n",
        "sample = {'employee_satisfaction': [0.45, 0.65, 0.3, 0.8, 0.4], 'last_performance_rating': [0.5, 0.4, 0.8, 0.65, 0.84], 'ergo_issues': [1, 0, 1, 1, 0], \n",
        "          'promo_in_last_5_years': [1, 0, 1, 1, 1], 'salary_LARGE': [0, 1, 0, 1, 0], 'salary_SMALL': [1, 0, 1, 0, 1], 'salary_MIDDLE': [0, 0, 0, 0, 0], \n",
        "          'dept_EXEC': [1, 0, 0, 1, 1], 'dept_ADMIN': [0, 0, 0, 0, 0], 'dept_EXEC': [0, 1, 0, 0, 0], 'dept_FIN': [0, 0, 0, 0, 0], \n",
        "          'dept_HR': [0, 0, 1, 0, 0], 'dept_IS': [0, 0, 0, 0, 0], 'dept_MKT': [0, 0, 0, 0, 0], 'dept_PM': [0, 0, 0, 0, 0], 'dept_RTD': [0, 0, 0, 0, 0], \n",
        "          'dept_SALES': [0, 0, 0, 0, 0], 'dept_TECH': [0, 0, 0, 0, 0], 'dept_PM': [0, 0, 0, 0, 0], 'workload': [6, 5, 7, 4, 3], \n",
        "          'avg_montly_hours': [250, 200, 160, 260, 200], 'tenure_years': [3, 4, 5, 5, 7]}\n",
        "\n",
        "# Convert dict to dataframe.\n",
        "arbitrary_values = pd.DataFrame(data = sample)\n",
        "arbitrary_values"
      ],
      "execution_count": 109,
      "outputs": [
        {
          "output_type": "execute_result",
          "data": {
            "text/html": [
              "<div>\n",
              "<style scoped>\n",
              "    .dataframe tbody tr th:only-of-type {\n",
              "        vertical-align: middle;\n",
              "    }\n",
              "\n",
              "    .dataframe tbody tr th {\n",
              "        vertical-align: top;\n",
              "    }\n",
              "\n",
              "    .dataframe thead th {\n",
              "        text-align: right;\n",
              "    }\n",
              "</style>\n",
              "<table border=\"1\" class=\"dataframe\">\n",
              "  <thead>\n",
              "    <tr style=\"text-align: right;\">\n",
              "      <th></th>\n",
              "      <th>employee_satisfaction</th>\n",
              "      <th>last_performance_rating</th>\n",
              "      <th>ergo_issues</th>\n",
              "      <th>promo_in_last_5_years</th>\n",
              "      <th>salary_LARGE</th>\n",
              "      <th>salary_SMALL</th>\n",
              "      <th>salary_MIDDLE</th>\n",
              "      <th>dept_EXEC</th>\n",
              "      <th>dept_ADMIN</th>\n",
              "      <th>dept_FIN</th>\n",
              "      <th>dept_HR</th>\n",
              "      <th>dept_IS</th>\n",
              "      <th>dept_MKT</th>\n",
              "      <th>dept_PM</th>\n",
              "      <th>dept_RTD</th>\n",
              "      <th>dept_SALES</th>\n",
              "      <th>dept_TECH</th>\n",
              "      <th>workload</th>\n",
              "      <th>avg_montly_hours</th>\n",
              "      <th>tenure_years</th>\n",
              "    </tr>\n",
              "  </thead>\n",
              "  <tbody>\n",
              "    <tr>\n",
              "      <th>0</th>\n",
              "      <td>0.45</td>\n",
              "      <td>0.50</td>\n",
              "      <td>1</td>\n",
              "      <td>1</td>\n",
              "      <td>0</td>\n",
              "      <td>1</td>\n",
              "      <td>0</td>\n",
              "      <td>0</td>\n",
              "      <td>0</td>\n",
              "      <td>0</td>\n",
              "      <td>0</td>\n",
              "      <td>0</td>\n",
              "      <td>0</td>\n",
              "      <td>0</td>\n",
              "      <td>0</td>\n",
              "      <td>0</td>\n",
              "      <td>0</td>\n",
              "      <td>6</td>\n",
              "      <td>250</td>\n",
              "      <td>3</td>\n",
              "    </tr>\n",
              "    <tr>\n",
              "      <th>1</th>\n",
              "      <td>0.65</td>\n",
              "      <td>0.40</td>\n",
              "      <td>0</td>\n",
              "      <td>0</td>\n",
              "      <td>1</td>\n",
              "      <td>0</td>\n",
              "      <td>0</td>\n",
              "      <td>1</td>\n",
              "      <td>0</td>\n",
              "      <td>0</td>\n",
              "      <td>0</td>\n",
              "      <td>0</td>\n",
              "      <td>0</td>\n",
              "      <td>0</td>\n",
              "      <td>0</td>\n",
              "      <td>0</td>\n",
              "      <td>0</td>\n",
              "      <td>5</td>\n",
              "      <td>200</td>\n",
              "      <td>4</td>\n",
              "    </tr>\n",
              "    <tr>\n",
              "      <th>2</th>\n",
              "      <td>0.30</td>\n",
              "      <td>0.80</td>\n",
              "      <td>1</td>\n",
              "      <td>1</td>\n",
              "      <td>0</td>\n",
              "      <td>1</td>\n",
              "      <td>0</td>\n",
              "      <td>0</td>\n",
              "      <td>0</td>\n",
              "      <td>0</td>\n",
              "      <td>1</td>\n",
              "      <td>0</td>\n",
              "      <td>0</td>\n",
              "      <td>0</td>\n",
              "      <td>0</td>\n",
              "      <td>0</td>\n",
              "      <td>0</td>\n",
              "      <td>7</td>\n",
              "      <td>160</td>\n",
              "      <td>5</td>\n",
              "    </tr>\n",
              "    <tr>\n",
              "      <th>3</th>\n",
              "      <td>0.80</td>\n",
              "      <td>0.65</td>\n",
              "      <td>1</td>\n",
              "      <td>1</td>\n",
              "      <td>1</td>\n",
              "      <td>0</td>\n",
              "      <td>0</td>\n",
              "      <td>0</td>\n",
              "      <td>0</td>\n",
              "      <td>0</td>\n",
              "      <td>0</td>\n",
              "      <td>0</td>\n",
              "      <td>0</td>\n",
              "      <td>0</td>\n",
              "      <td>0</td>\n",
              "      <td>0</td>\n",
              "      <td>0</td>\n",
              "      <td>4</td>\n",
              "      <td>260</td>\n",
              "      <td>5</td>\n",
              "    </tr>\n",
              "    <tr>\n",
              "      <th>4</th>\n",
              "      <td>0.40</td>\n",
              "      <td>0.84</td>\n",
              "      <td>0</td>\n",
              "      <td>1</td>\n",
              "      <td>0</td>\n",
              "      <td>1</td>\n",
              "      <td>0</td>\n",
              "      <td>0</td>\n",
              "      <td>0</td>\n",
              "      <td>0</td>\n",
              "      <td>0</td>\n",
              "      <td>0</td>\n",
              "      <td>0</td>\n",
              "      <td>0</td>\n",
              "      <td>0</td>\n",
              "      <td>0</td>\n",
              "      <td>0</td>\n",
              "      <td>3</td>\n",
              "      <td>200</td>\n",
              "      <td>7</td>\n",
              "    </tr>\n",
              "  </tbody>\n",
              "</table>\n",
              "</div>"
            ],
            "text/plain": [
              "   employee_satisfaction  ...  tenure_years\n",
              "0                   0.45  ...             3\n",
              "1                   0.65  ...             4\n",
              "2                   0.30  ...             5\n",
              "3                   0.80  ...             5\n",
              "4                   0.40  ...             7\n",
              "\n",
              "[5 rows x 20 columns]"
            ]
          },
          "metadata": {
            "tags": []
          },
          "execution_count": 109
        }
      ]
    },
    {
      "cell_type": "code",
      "metadata": {
        "id": "TXRnfP-AO_O8",
        "colab_type": "code",
        "colab": {
          "base_uri": "https://localhost:8080/",
          "height": 224
        },
        "outputId": "fb1380ab-f193-45b2-bfca-b46ae2e35fa0"
      },
      "source": [
        "# Now, let's use the model to predict attrition for arbitrary values\n",
        "\n",
        "arbitrary_values.join(pd.DataFrame(model.predict(arbitrary_values), columns = {'Prediction'}).set_index([pd.Index(arbitrary_values.index)]))"
      ],
      "execution_count": 110,
      "outputs": [
        {
          "output_type": "execute_result",
          "data": {
            "text/html": [
              "<div>\n",
              "<style scoped>\n",
              "    .dataframe tbody tr th:only-of-type {\n",
              "        vertical-align: middle;\n",
              "    }\n",
              "\n",
              "    .dataframe tbody tr th {\n",
              "        vertical-align: top;\n",
              "    }\n",
              "\n",
              "    .dataframe thead th {\n",
              "        text-align: right;\n",
              "    }\n",
              "</style>\n",
              "<table border=\"1\" class=\"dataframe\">\n",
              "  <thead>\n",
              "    <tr style=\"text-align: right;\">\n",
              "      <th></th>\n",
              "      <th>employee_satisfaction</th>\n",
              "      <th>last_performance_rating</th>\n",
              "      <th>ergo_issues</th>\n",
              "      <th>promo_in_last_5_years</th>\n",
              "      <th>salary_LARGE</th>\n",
              "      <th>salary_SMALL</th>\n",
              "      <th>salary_MIDDLE</th>\n",
              "      <th>dept_EXEC</th>\n",
              "      <th>dept_ADMIN</th>\n",
              "      <th>dept_FIN</th>\n",
              "      <th>dept_HR</th>\n",
              "      <th>dept_IS</th>\n",
              "      <th>dept_MKT</th>\n",
              "      <th>dept_PM</th>\n",
              "      <th>dept_RTD</th>\n",
              "      <th>dept_SALES</th>\n",
              "      <th>dept_TECH</th>\n",
              "      <th>workload</th>\n",
              "      <th>avg_montly_hours</th>\n",
              "      <th>tenure_years</th>\n",
              "      <th>Prediction</th>\n",
              "    </tr>\n",
              "  </thead>\n",
              "  <tbody>\n",
              "    <tr>\n",
              "      <th>0</th>\n",
              "      <td>0.45</td>\n",
              "      <td>0.50</td>\n",
              "      <td>1</td>\n",
              "      <td>1</td>\n",
              "      <td>0</td>\n",
              "      <td>1</td>\n",
              "      <td>0</td>\n",
              "      <td>0</td>\n",
              "      <td>0</td>\n",
              "      <td>0</td>\n",
              "      <td>0</td>\n",
              "      <td>0</td>\n",
              "      <td>0</td>\n",
              "      <td>0</td>\n",
              "      <td>0</td>\n",
              "      <td>0</td>\n",
              "      <td>0</td>\n",
              "      <td>6</td>\n",
              "      <td>250</td>\n",
              "      <td>3</td>\n",
              "      <td>1</td>\n",
              "    </tr>\n",
              "    <tr>\n",
              "      <th>1</th>\n",
              "      <td>0.65</td>\n",
              "      <td>0.40</td>\n",
              "      <td>0</td>\n",
              "      <td>0</td>\n",
              "      <td>1</td>\n",
              "      <td>0</td>\n",
              "      <td>0</td>\n",
              "      <td>1</td>\n",
              "      <td>0</td>\n",
              "      <td>0</td>\n",
              "      <td>0</td>\n",
              "      <td>0</td>\n",
              "      <td>0</td>\n",
              "      <td>0</td>\n",
              "      <td>0</td>\n",
              "      <td>0</td>\n",
              "      <td>0</td>\n",
              "      <td>5</td>\n",
              "      <td>200</td>\n",
              "      <td>4</td>\n",
              "      <td>1</td>\n",
              "    </tr>\n",
              "    <tr>\n",
              "      <th>2</th>\n",
              "      <td>0.30</td>\n",
              "      <td>0.80</td>\n",
              "      <td>1</td>\n",
              "      <td>1</td>\n",
              "      <td>0</td>\n",
              "      <td>1</td>\n",
              "      <td>0</td>\n",
              "      <td>0</td>\n",
              "      <td>0</td>\n",
              "      <td>0</td>\n",
              "      <td>1</td>\n",
              "      <td>0</td>\n",
              "      <td>0</td>\n",
              "      <td>0</td>\n",
              "      <td>0</td>\n",
              "      <td>0</td>\n",
              "      <td>0</td>\n",
              "      <td>7</td>\n",
              "      <td>160</td>\n",
              "      <td>5</td>\n",
              "      <td>1</td>\n",
              "    </tr>\n",
              "    <tr>\n",
              "      <th>3</th>\n",
              "      <td>0.80</td>\n",
              "      <td>0.65</td>\n",
              "      <td>1</td>\n",
              "      <td>1</td>\n",
              "      <td>1</td>\n",
              "      <td>0</td>\n",
              "      <td>0</td>\n",
              "      <td>0</td>\n",
              "      <td>0</td>\n",
              "      <td>0</td>\n",
              "      <td>0</td>\n",
              "      <td>0</td>\n",
              "      <td>0</td>\n",
              "      <td>0</td>\n",
              "      <td>0</td>\n",
              "      <td>0</td>\n",
              "      <td>0</td>\n",
              "      <td>4</td>\n",
              "      <td>260</td>\n",
              "      <td>5</td>\n",
              "      <td>1</td>\n",
              "    </tr>\n",
              "    <tr>\n",
              "      <th>4</th>\n",
              "      <td>0.40</td>\n",
              "      <td>0.84</td>\n",
              "      <td>0</td>\n",
              "      <td>1</td>\n",
              "      <td>0</td>\n",
              "      <td>1</td>\n",
              "      <td>0</td>\n",
              "      <td>0</td>\n",
              "      <td>0</td>\n",
              "      <td>0</td>\n",
              "      <td>0</td>\n",
              "      <td>0</td>\n",
              "      <td>0</td>\n",
              "      <td>0</td>\n",
              "      <td>0</td>\n",
              "      <td>0</td>\n",
              "      <td>0</td>\n",
              "      <td>3</td>\n",
              "      <td>200</td>\n",
              "      <td>7</td>\n",
              "      <td>1</td>\n",
              "    </tr>\n",
              "  </tbody>\n",
              "</table>\n",
              "</div>"
            ],
            "text/plain": [
              "   employee_satisfaction  last_performance_rating  ...  tenure_years  Prediction\n",
              "0                   0.45                     0.50  ...             3           1\n",
              "1                   0.65                     0.40  ...             4           1\n",
              "2                   0.30                     0.80  ...             5           1\n",
              "3                   0.80                     0.65  ...             5           1\n",
              "4                   0.40                     0.84  ...             7           1\n",
              "\n",
              "[5 rows x 21 columns]"
            ]
          },
          "metadata": {
            "tags": []
          },
          "execution_count": 110
        }
      ]
    },
    {
      "cell_type": "code",
      "metadata": {
        "id": "j5V83ETF7LcJ",
        "colab_type": "code",
        "colab": {
          "base_uri": "https://localhost:8080/",
          "height": 224
        },
        "outputId": "aedab34d-633b-4fc2-ff0f-2f350a007082"
      },
      "source": [
        "# Create a data structure that contains the probabilities for a broad range.\n",
        "\n",
        "exhaustive_data_df = pd.DataFrame(arbitrary_values)\n",
        "prediction_df2 = pd.DataFrame(model.predict(exhaustive_data_df), columns = {'Prediction'}).set_index([pd.Index(exhaustive_data_df.index)])\n",
        "probability_df2 = pd.DataFrame(model.predict_proba(exhaustive_data_df)).set_index([pd.Index(exhaustive_data_df.index)])\n",
        "all_together_df2 = exhaustive_data_df.join(prediction_df2).join(probability_df2)\n",
        "all_together_df2"
      ],
      "execution_count": 111,
      "outputs": [
        {
          "output_type": "execute_result",
          "data": {
            "text/html": [
              "<div>\n",
              "<style scoped>\n",
              "    .dataframe tbody tr th:only-of-type {\n",
              "        vertical-align: middle;\n",
              "    }\n",
              "\n",
              "    .dataframe tbody tr th {\n",
              "        vertical-align: top;\n",
              "    }\n",
              "\n",
              "    .dataframe thead th {\n",
              "        text-align: right;\n",
              "    }\n",
              "</style>\n",
              "<table border=\"1\" class=\"dataframe\">\n",
              "  <thead>\n",
              "    <tr style=\"text-align: right;\">\n",
              "      <th></th>\n",
              "      <th>employee_satisfaction</th>\n",
              "      <th>last_performance_rating</th>\n",
              "      <th>ergo_issues</th>\n",
              "      <th>promo_in_last_5_years</th>\n",
              "      <th>salary_LARGE</th>\n",
              "      <th>salary_SMALL</th>\n",
              "      <th>salary_MIDDLE</th>\n",
              "      <th>dept_EXEC</th>\n",
              "      <th>dept_ADMIN</th>\n",
              "      <th>dept_FIN</th>\n",
              "      <th>dept_HR</th>\n",
              "      <th>dept_IS</th>\n",
              "      <th>dept_MKT</th>\n",
              "      <th>dept_PM</th>\n",
              "      <th>dept_RTD</th>\n",
              "      <th>dept_SALES</th>\n",
              "      <th>dept_TECH</th>\n",
              "      <th>workload</th>\n",
              "      <th>avg_montly_hours</th>\n",
              "      <th>tenure_years</th>\n",
              "      <th>Prediction</th>\n",
              "      <th>0</th>\n",
              "      <th>1</th>\n",
              "    </tr>\n",
              "  </thead>\n",
              "  <tbody>\n",
              "    <tr>\n",
              "      <th>0</th>\n",
              "      <td>0.45</td>\n",
              "      <td>0.50</td>\n",
              "      <td>1</td>\n",
              "      <td>1</td>\n",
              "      <td>0</td>\n",
              "      <td>1</td>\n",
              "      <td>0</td>\n",
              "      <td>0</td>\n",
              "      <td>0</td>\n",
              "      <td>0</td>\n",
              "      <td>0</td>\n",
              "      <td>0</td>\n",
              "      <td>0</td>\n",
              "      <td>0</td>\n",
              "      <td>0</td>\n",
              "      <td>0</td>\n",
              "      <td>0</td>\n",
              "      <td>6</td>\n",
              "      <td>250</td>\n",
              "      <td>3</td>\n",
              "      <td>1</td>\n",
              "      <td>2.664535e-15</td>\n",
              "      <td>1.0</td>\n",
              "    </tr>\n",
              "    <tr>\n",
              "      <th>1</th>\n",
              "      <td>0.65</td>\n",
              "      <td>0.40</td>\n",
              "      <td>0</td>\n",
              "      <td>0</td>\n",
              "      <td>1</td>\n",
              "      <td>0</td>\n",
              "      <td>0</td>\n",
              "      <td>1</td>\n",
              "      <td>0</td>\n",
              "      <td>0</td>\n",
              "      <td>0</td>\n",
              "      <td>0</td>\n",
              "      <td>0</td>\n",
              "      <td>0</td>\n",
              "      <td>0</td>\n",
              "      <td>0</td>\n",
              "      <td>0</td>\n",
              "      <td>5</td>\n",
              "      <td>200</td>\n",
              "      <td>4</td>\n",
              "      <td>1</td>\n",
              "      <td>4.927170e-13</td>\n",
              "      <td>1.0</td>\n",
              "    </tr>\n",
              "    <tr>\n",
              "      <th>2</th>\n",
              "      <td>0.30</td>\n",
              "      <td>0.80</td>\n",
              "      <td>1</td>\n",
              "      <td>1</td>\n",
              "      <td>0</td>\n",
              "      <td>1</td>\n",
              "      <td>0</td>\n",
              "      <td>0</td>\n",
              "      <td>0</td>\n",
              "      <td>0</td>\n",
              "      <td>1</td>\n",
              "      <td>0</td>\n",
              "      <td>0</td>\n",
              "      <td>0</td>\n",
              "      <td>0</td>\n",
              "      <td>0</td>\n",
              "      <td>0</td>\n",
              "      <td>7</td>\n",
              "      <td>160</td>\n",
              "      <td>5</td>\n",
              "      <td>1</td>\n",
              "      <td>3.371769e-09</td>\n",
              "      <td>1.0</td>\n",
              "    </tr>\n",
              "    <tr>\n",
              "      <th>3</th>\n",
              "      <td>0.80</td>\n",
              "      <td>0.65</td>\n",
              "      <td>1</td>\n",
              "      <td>1</td>\n",
              "      <td>1</td>\n",
              "      <td>0</td>\n",
              "      <td>0</td>\n",
              "      <td>0</td>\n",
              "      <td>0</td>\n",
              "      <td>0</td>\n",
              "      <td>0</td>\n",
              "      <td>0</td>\n",
              "      <td>0</td>\n",
              "      <td>0</td>\n",
              "      <td>0</td>\n",
              "      <td>0</td>\n",
              "      <td>0</td>\n",
              "      <td>4</td>\n",
              "      <td>260</td>\n",
              "      <td>5</td>\n",
              "      <td>1</td>\n",
              "      <td>0.000000e+00</td>\n",
              "      <td>1.0</td>\n",
              "    </tr>\n",
              "    <tr>\n",
              "      <th>4</th>\n",
              "      <td>0.40</td>\n",
              "      <td>0.84</td>\n",
              "      <td>0</td>\n",
              "      <td>1</td>\n",
              "      <td>0</td>\n",
              "      <td>1</td>\n",
              "      <td>0</td>\n",
              "      <td>0</td>\n",
              "      <td>0</td>\n",
              "      <td>0</td>\n",
              "      <td>0</td>\n",
              "      <td>0</td>\n",
              "      <td>0</td>\n",
              "      <td>0</td>\n",
              "      <td>0</td>\n",
              "      <td>0</td>\n",
              "      <td>0</td>\n",
              "      <td>3</td>\n",
              "      <td>200</td>\n",
              "      <td>7</td>\n",
              "      <td>1</td>\n",
              "      <td>8.881784e-15</td>\n",
              "      <td>1.0</td>\n",
              "    </tr>\n",
              "  </tbody>\n",
              "</table>\n",
              "</div>"
            ],
            "text/plain": [
              "   employee_satisfaction  last_performance_rating  ...             0    1\n",
              "0                   0.45                     0.50  ...  2.664535e-15  1.0\n",
              "1                   0.65                     0.40  ...  4.927170e-13  1.0\n",
              "2                   0.30                     0.80  ...  3.371769e-09  1.0\n",
              "3                   0.80                     0.65  ...  0.000000e+00  1.0\n",
              "4                   0.40                     0.84  ...  8.881784e-15  1.0\n",
              "\n",
              "[5 rows x 23 columns]"
            ]
          },
          "metadata": {
            "tags": []
          },
          "execution_count": 111
        }
      ]
    },
    {
      "cell_type": "markdown",
      "metadata": {
        "id": "mabQAI0p8TeF",
        "colab_type": "text"
      },
      "source": [
        "In my sample, the logistic regression model predicts all 5 employees are likely to quit. "
      ]
    }
  ],
  "metadata": {
    "colab": {
      "name": "ALY 6015 - SpringA 2020 - Mia (Yuhsin Hou) # HW3 - attrition - colab.ipynb",
      "provenance": [],
      "collapsed_sections": [
        "TuJ7Y1ZXI_LE"
      ]
    },
    "kernelspec": {
      "name": "python3",
      "display_name": "Python 3"
    }
  },
  "nbformat": 4,
  "nbformat_minor": 0
}